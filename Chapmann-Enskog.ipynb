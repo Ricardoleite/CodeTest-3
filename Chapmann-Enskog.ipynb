{
 "cells": [
  {
   "cell_type": "markdown",
   "metadata": {},
   "source": [
    "# Análise de Chapman-Enskog \n",
    "-------------------"
   ]
  },
  {
   "cell_type": "markdown",
   "metadata": {},
   "source": [
    "\\begin{equation*}\n",
    "\\Omega_{i}^{(0)}=0\n",
    "\\end{equation*}\n",
    "\\begin{equation*}\n",
    "\\partial_{0}f^{(0)}_{i}+\\vec{c}_{i}\\cdot\\vec{\\nabla}f^{(0)}_{i}=\\Omega_{i}^{(1)}\n",
    "\\label{eq:1} \\tag{1}\n",
    "\\end{equation*}\n",
    "\\begin{equation*}\n",
    "\\partial_{0}f^{(1)}_{i}+\\vec{c}_{i}\\cdot\\vec{\\nabla}f^{(1)}_{i}+\\partial_{0}f^{(0)}_{i}+\n",
    "\\partial_{0}\\Omega_{i}^{(1)}+\\vec{c}_{i}\\cdot\\vec{\\nabla}\\Omega_{i}^{(1)}=\\Omega_{i}^{(2)}\n",
    "\\label{eq:2}\\tag{2}\n",
    "\\end{equation*}\n",
    "\n",
    "Como,\n",
    "\n",
    "\\begin{equation*}\n",
    "f^{eq}_{i}=\\rho W_{i}\\left[1+a^{2}_{s}u_{\\alpha}e_{i\\alpha}+\n",
    "    \\frac{1}{2}\\left(a^{2}_{s}u_{\\alpha}u_{\\beta} + \\Theta \\delta_{\\alpha\\beta} \\right) \n",
    "    \\left( a^{2}_{s}e_{i\\alpha}e_{i\\beta} - \\delta_{\\alpha\\beta} \\right) \\right ].\n",
    "\\label{eq:3}\\tag{3}\n",
    "\\end{equation*}\n",
    "\n",
    "Sendo,\n",
    "\n",
    "\\begin{equation*}\n",
    "\\left\\langle f^{eq}_{i} \\right\\rangle=\\rho\n",
    "\\label{eq:4}\\tag{4}\n",
    "\\end{equation*}\n",
    "\\begin{equation*}\n",
    "\\left\\langle f^{eq}_{i}c_{i\\nu} \\right\\rangle=\\rho u_{\\nu}\n",
    "\\label{eq:5}\\tag{5}\n",
    "\\end{equation*}\n",
    "\\begin{equation*}\n",
    "\\left\\langle f^{eq}_{i}c_{i\\nu}c_{i\\eta} \\right\\rangle=\\rho u_{\\nu}u_{\\eta}+\\rho c_{s}^{2}\\left(\\Theta+1\\right)\\delta_{\\nu\\eta}\n",
    "\\label{eq:6} \\tag{6}\n",
    "\\end{equation*}\n",
    "\\begin{equation*}\n",
    "\\left\\langle f^{eq}_{i}c_{i\\nu}c_{i\\eta}c_{i\\alpha} \\right\\rangle=+\\rho c_{s}^{2}\\left(u_{\\nu}\\delta_{\\eta\\alpha}+\n",
    "u_{\\alpha}\\delta_{\\eta\\nu}+u_{\\eta}\\delta_{\\alpha\\nu}\\right)\n",
    "\\label{eq:7}\\tag{7}\n",
    "\\end{equation*}\n",
    "\n",
    "Assim,\n",
    "\n",
    "\\begin{equation*}\n",
    "\\partial_{0}\\left(\\rho\\right)+\\partial_{\\nu}(\\rho u_{\\nu}) \\hspace{3cm} \\textrm{onde} \\quad  \\left\\langle \\Omega_{i}^{(1)} \\right\\rangle=0\n",
    "\\label{eq:8}\\tag{8}\n",
    "\\end{equation*}\n",
    "\n",
    "\\begin{equation*}\n",
    "\\partial_{0}\\left(\\rho u_{\\nu}\\right)+ \\partial_{\\alpha} \\left[ \\rho u_{\\nu}u_{\\alpha} + \\rho c_{s}^{2}\\left(\\Theta+1\\right)\\delta_{\\nu\\alpha} \\right]=0 \\hspace{3cm} \\textrm{onde} \\quad  \\left\\langle \\Omega_{i}^{(1)}c_{i\\nu} \\right\\rangle=0\n",
    "\\label{eq:9}\\tag{9}\n",
    "\\end{equation*}\n",
    "\n",
    "\\begin{equation*}\n",
    "\\rho\\partial_{0}\\left(u_{\\nu}\\right)+ \\rho u_{\\alpha}\\partial_{\\alpha} \\left[u_{\\nu} \\right] + \\partial_{\\alpha} \\left[\\rho c_{s}^{2}\\left(\\Theta+1\\right)\\delta_{\\nu\\alpha} \\right]=0 \\hspace{3cm} \\textrm{onde} \\quad  \\left\\langle \\Omega_{i}^{(1)}c_{i\\nu} \\right\\rangle=0\n",
    "\\label{eq:91} \\tag{9.1}\n",
    "\\end{equation*}\n",
    "\n",
    "\\begin{equation*}\n",
    "\\partial_{0}\\left[\\rho u_{\\eta}u_{\\nu} +\\rho c_{s}^{2}\\left(\\Theta+1 \\right)\\delta_{\\nu\\eta} \\right]+ \\partial_{\\alpha} \\left[ \\rho c_{s}^{2}\\left(u_{\\nu} \\delta_{\\eta\\alpha} + u_{\\alpha} \\delta_{\\eta\\nu} + u_{\\eta} \\delta_{\\alpha\\nu} \\right) \\right]= \\left\\langle \\Omega_{i}^{(1)}c_{i\\nu}c_{i\\eta} \\right\\rangle \n",
    "\\label{eq:10}\\tag{10}\n",
    "\\end{equation*}\n",
    "\n",
    "Multiplicando (\\ref{eq:4}) por $u_{\\eta}$ e (\\ref{eq:91}) por $u_{\\nu}$ e somando ambas equações\n",
    "\n",
    "\\begin{equation*}\n",
    "\\partial_{0}\\left(\\rho u_{\\eta}u_{\\nu} \\right)+ \\partial_{\\alpha} \\left( \\rho u_{\\alpha}u_{\\eta}u_{\\nu} \\right) + u_{\\eta}\\partial_{\\nu}\\left[\\rho c_{s}^{2}\\left(\\Theta+1 \\right)\\right] + u_{\\nu}\\partial_{\\eta}\\left[\\rho c_{s}^{2}\\left(\\Theta+1 \\right)\\right] =0\n",
    "\\label{eq:11}\\tag{11}\n",
    "\\end{equation*}\n",
    "\n",
    "É importante notar que a equação (\\ref{eq:8}) permite calcular $\\left(\\partial_{0}\\rho\\right)$, a equação (\\ref{eq:9}) permite calcular $\\left(\\partial_{0}u_{alpha}\\right)$, porém na equação (\\ref{eq:10}) temos duas incógnitas $\\partial_{0}\\Theta$ e $\\left\\langle \\Omega_{i}^{(1)}c_{i\\nu}c_{i\\eta} \\right\\rangle $. Quando o modelo de colisão conserva a energia temos uma equação adicional\n",
    "\n",
    "\\begin{equation*}\n",
    "\\left\\langle \\Omega_{i}^{(1)}c_{i\\beta}c_{i\\beta} \\right\\rangle=0\n",
    "\\end{equation*}\n",
    "\n",
    "Por este motivo, nesta análise deixamos o termo envolvendo $\\partial_{0}\\left(\\Theta\\right)$ em separado. Assim substituindo a equação (\\ref{eq:11}) na equação (\\ref{eq:10})"
   ]
  },
  {
   "cell_type": "code",
   "execution_count": 7,
   "metadata": {},
   "outputs": [
    {
     "name": "stdout",
     "output_type": "stream",
     "text": [
      "Populating the interactive namespace from numpy and matplotlib\n"
     ]
    },
    {
     "name": "stderr",
     "output_type": "stream",
     "text": [
      "C:\\Users\\ricardo3500479\\AppData\\Local\\Continuum\\anaconda3\\lib\\site-packages\\IPython\\core\\magics\\pylab.py:160: UserWarning: pylab import has clobbered these variables: ['cos', 'zeros', 'nan', 'take', 'pi', 'roots', 'vectorize', 'cbrt', 'conjugate', 'Polygon', 'plotting', 'binomial', 'cosh', 'floor', 'log', 'test', 'eye', 'fft', 'seterr', 'partition', 'ifft', 'solve', 'trunc', 'source', 'Number', 'tan', 'gcd', 'product', 'tanh', 'flatten', 'plot', 'sinc', 'trace', 'interactive', 'poly', 'sin', 'add', 'mod', 'prod', 'sign', 're', 'invert', 'deprecated', 'exp', 'ones', 'Line2D', 'var', 'multinomial', 'Circle', 'diag', 'reshape', 'sinh', 'beta', 'sqrt', 'power', 'array', 'lcm', 'gamma', 'transpose', 'diff', 'det']\n",
      "`%matplotlib` prevents importing * from pylab and numpy\n",
      "  \"\\n`%matplotlib` prevents importing * from pylab and numpy\"\n"
     ]
    },
    {
     "ename": "ModuleNotFoundError",
     "evalue": "No module named 'watermark'",
     "output_type": "error",
     "traceback": [
      "\u001b[1;31m---------------------------------------------------------------------------\u001b[0m",
      "\u001b[1;31mModuleNotFoundError\u001b[0m                       Traceback (most recent call last)",
      "\u001b[1;32m<ipython-input-7-2ace71bb42f6>\u001b[0m in \u001b[0;36m<module>\u001b[1;34m\u001b[0m\n\u001b[0;32m      1\u001b[0m \u001b[0mget_ipython\u001b[0m\u001b[1;33m(\u001b[0m\u001b[1;33m)\u001b[0m\u001b[1;33m.\u001b[0m\u001b[0mrun_line_magic\u001b[0m\u001b[1;33m(\u001b[0m\u001b[1;34m'pylab'\u001b[0m\u001b[1;33m,\u001b[0m \u001b[1;34m'inline'\u001b[0m\u001b[1;33m)\u001b[0m\u001b[1;33m\u001b[0m\u001b[1;33m\u001b[0m\u001b[0m\n\u001b[1;32m----> 2\u001b[1;33m \u001b[0mget_ipython\u001b[0m\u001b[1;33m(\u001b[0m\u001b[1;33m)\u001b[0m\u001b[1;33m.\u001b[0m\u001b[0mrun_line_magic\u001b[0m\u001b[1;33m(\u001b[0m\u001b[1;34m'load_ext'\u001b[0m\u001b[1;33m,\u001b[0m \u001b[1;34m'watermark'\u001b[0m\u001b[1;33m)\u001b[0m\u001b[1;33m\u001b[0m\u001b[1;33m\u001b[0m\u001b[0m\n\u001b[0m\u001b[0;32m      3\u001b[0m \u001b[1;33m\u001b[0m\u001b[0m\n\u001b[0;32m      4\u001b[0m \u001b[1;31m#python, ipython, pckages, and machine characteristics\u001b[0m\u001b[1;33m\u001b[0m\u001b[1;33m\u001b[0m\u001b[1;33m\u001b[0m\u001b[0m\n\u001b[0;32m      5\u001b[0m \u001b[0mget_ipython\u001b[0m\u001b[1;33m(\u001b[0m\u001b[1;33m)\u001b[0m\u001b[1;33m.\u001b[0m\u001b[0mrun_line_magic\u001b[0m\u001b[1;33m(\u001b[0m\u001b[1;34m'watermark'\u001b[0m\u001b[1;33m,\u001b[0m \u001b[1;34m'-v -m -p wget, pandas,numpy,geopy,altair,vega,vega_datasets,watermark'\u001b[0m\u001b[1;33m)\u001b[0m\u001b[1;33m\u001b[0m\u001b[1;33m\u001b[0m\u001b[0m\n",
      "\u001b[1;32m~\\AppData\\Local\\Continuum\\anaconda3\\lib\\site-packages\\IPython\\core\\interactiveshell.py\u001b[0m in \u001b[0;36mrun_line_magic\u001b[1;34m(self, magic_name, line, _stack_depth)\u001b[0m\n\u001b[0;32m   2312\u001b[0m                 \u001b[0mkwargs\u001b[0m\u001b[1;33m[\u001b[0m\u001b[1;34m'local_ns'\u001b[0m\u001b[1;33m]\u001b[0m \u001b[1;33m=\u001b[0m \u001b[0msys\u001b[0m\u001b[1;33m.\u001b[0m\u001b[0m_getframe\u001b[0m\u001b[1;33m(\u001b[0m\u001b[0mstack_depth\u001b[0m\u001b[1;33m)\u001b[0m\u001b[1;33m.\u001b[0m\u001b[0mf_locals\u001b[0m\u001b[1;33m\u001b[0m\u001b[1;33m\u001b[0m\u001b[0m\n\u001b[0;32m   2313\u001b[0m             \u001b[1;32mwith\u001b[0m \u001b[0mself\u001b[0m\u001b[1;33m.\u001b[0m\u001b[0mbuiltin_trap\u001b[0m\u001b[1;33m:\u001b[0m\u001b[1;33m\u001b[0m\u001b[1;33m\u001b[0m\u001b[0m\n\u001b[1;32m-> 2314\u001b[1;33m                 \u001b[0mresult\u001b[0m \u001b[1;33m=\u001b[0m \u001b[0mfn\u001b[0m\u001b[1;33m(\u001b[0m\u001b[1;33m*\u001b[0m\u001b[0margs\u001b[0m\u001b[1;33m,\u001b[0m \u001b[1;33m**\u001b[0m\u001b[0mkwargs\u001b[0m\u001b[1;33m)\u001b[0m\u001b[1;33m\u001b[0m\u001b[1;33m\u001b[0m\u001b[0m\n\u001b[0m\u001b[0;32m   2315\u001b[0m             \u001b[1;32mreturn\u001b[0m \u001b[0mresult\u001b[0m\u001b[1;33m\u001b[0m\u001b[1;33m\u001b[0m\u001b[0m\n\u001b[0;32m   2316\u001b[0m \u001b[1;33m\u001b[0m\u001b[0m\n",
      "\u001b[1;32m<C:\\Users\\ricardo3500479\\AppData\\Local\\Continuum\\anaconda3\\lib\\site-packages\\decorator.py:decorator-gen-65>\u001b[0m in \u001b[0;36mload_ext\u001b[1;34m(self, module_str)\u001b[0m\n",
      "\u001b[1;32m~\\AppData\\Local\\Continuum\\anaconda3\\lib\\site-packages\\IPython\\core\\magic.py\u001b[0m in \u001b[0;36m<lambda>\u001b[1;34m(f, *a, **k)\u001b[0m\n\u001b[0;32m    185\u001b[0m     \u001b[1;31m# but it's overkill for just that one bit of state.\u001b[0m\u001b[1;33m\u001b[0m\u001b[1;33m\u001b[0m\u001b[1;33m\u001b[0m\u001b[0m\n\u001b[0;32m    186\u001b[0m     \u001b[1;32mdef\u001b[0m \u001b[0mmagic_deco\u001b[0m\u001b[1;33m(\u001b[0m\u001b[0marg\u001b[0m\u001b[1;33m)\u001b[0m\u001b[1;33m:\u001b[0m\u001b[1;33m\u001b[0m\u001b[1;33m\u001b[0m\u001b[0m\n\u001b[1;32m--> 187\u001b[1;33m         \u001b[0mcall\u001b[0m \u001b[1;33m=\u001b[0m \u001b[1;32mlambda\u001b[0m \u001b[0mf\u001b[0m\u001b[1;33m,\u001b[0m \u001b[1;33m*\u001b[0m\u001b[0ma\u001b[0m\u001b[1;33m,\u001b[0m \u001b[1;33m**\u001b[0m\u001b[0mk\u001b[0m\u001b[1;33m:\u001b[0m \u001b[0mf\u001b[0m\u001b[1;33m(\u001b[0m\u001b[1;33m*\u001b[0m\u001b[0ma\u001b[0m\u001b[1;33m,\u001b[0m \u001b[1;33m**\u001b[0m\u001b[0mk\u001b[0m\u001b[1;33m)\u001b[0m\u001b[1;33m\u001b[0m\u001b[1;33m\u001b[0m\u001b[0m\n\u001b[0m\u001b[0;32m    188\u001b[0m \u001b[1;33m\u001b[0m\u001b[0m\n\u001b[0;32m    189\u001b[0m         \u001b[1;32mif\u001b[0m \u001b[0mcallable\u001b[0m\u001b[1;33m(\u001b[0m\u001b[0marg\u001b[0m\u001b[1;33m)\u001b[0m\u001b[1;33m:\u001b[0m\u001b[1;33m\u001b[0m\u001b[1;33m\u001b[0m\u001b[0m\n",
      "\u001b[1;32m~\\AppData\\Local\\Continuum\\anaconda3\\lib\\site-packages\\IPython\\core\\magics\\extension.py\u001b[0m in \u001b[0;36mload_ext\u001b[1;34m(self, module_str)\u001b[0m\n\u001b[0;32m     31\u001b[0m         \u001b[1;32mif\u001b[0m \u001b[1;32mnot\u001b[0m \u001b[0mmodule_str\u001b[0m\u001b[1;33m:\u001b[0m\u001b[1;33m\u001b[0m\u001b[1;33m\u001b[0m\u001b[0m\n\u001b[0;32m     32\u001b[0m             \u001b[1;32mraise\u001b[0m \u001b[0mUsageError\u001b[0m\u001b[1;33m(\u001b[0m\u001b[1;34m'Missing module name.'\u001b[0m\u001b[1;33m)\u001b[0m\u001b[1;33m\u001b[0m\u001b[1;33m\u001b[0m\u001b[0m\n\u001b[1;32m---> 33\u001b[1;33m         \u001b[0mres\u001b[0m \u001b[1;33m=\u001b[0m \u001b[0mself\u001b[0m\u001b[1;33m.\u001b[0m\u001b[0mshell\u001b[0m\u001b[1;33m.\u001b[0m\u001b[0mextension_manager\u001b[0m\u001b[1;33m.\u001b[0m\u001b[0mload_extension\u001b[0m\u001b[1;33m(\u001b[0m\u001b[0mmodule_str\u001b[0m\u001b[1;33m)\u001b[0m\u001b[1;33m\u001b[0m\u001b[1;33m\u001b[0m\u001b[0m\n\u001b[0m\u001b[0;32m     34\u001b[0m \u001b[1;33m\u001b[0m\u001b[0m\n\u001b[0;32m     35\u001b[0m         \u001b[1;32mif\u001b[0m \u001b[0mres\u001b[0m \u001b[1;33m==\u001b[0m \u001b[1;34m'already loaded'\u001b[0m\u001b[1;33m:\u001b[0m\u001b[1;33m\u001b[0m\u001b[1;33m\u001b[0m\u001b[0m\n",
      "\u001b[1;32m~\\AppData\\Local\\Continuum\\anaconda3\\lib\\site-packages\\IPython\\core\\extensions.py\u001b[0m in \u001b[0;36mload_extension\u001b[1;34m(self, module_str)\u001b[0m\n\u001b[0;32m     78\u001b[0m             \u001b[1;32mif\u001b[0m \u001b[0mmodule_str\u001b[0m \u001b[1;32mnot\u001b[0m \u001b[1;32min\u001b[0m \u001b[0msys\u001b[0m\u001b[1;33m.\u001b[0m\u001b[0mmodules\u001b[0m\u001b[1;33m:\u001b[0m\u001b[1;33m\u001b[0m\u001b[1;33m\u001b[0m\u001b[0m\n\u001b[0;32m     79\u001b[0m                 \u001b[1;32mwith\u001b[0m \u001b[0mprepended_to_syspath\u001b[0m\u001b[1;33m(\u001b[0m\u001b[0mself\u001b[0m\u001b[1;33m.\u001b[0m\u001b[0mipython_extension_dir\u001b[0m\u001b[1;33m)\u001b[0m\u001b[1;33m:\u001b[0m\u001b[1;33m\u001b[0m\u001b[1;33m\u001b[0m\u001b[0m\n\u001b[1;32m---> 80\u001b[1;33m                     \u001b[0mmod\u001b[0m \u001b[1;33m=\u001b[0m \u001b[0mimport_module\u001b[0m\u001b[1;33m(\u001b[0m\u001b[0mmodule_str\u001b[0m\u001b[1;33m)\u001b[0m\u001b[1;33m\u001b[0m\u001b[1;33m\u001b[0m\u001b[0m\n\u001b[0m\u001b[0;32m     81\u001b[0m                     \u001b[1;32mif\u001b[0m \u001b[0mmod\u001b[0m\u001b[1;33m.\u001b[0m\u001b[0m__file__\u001b[0m\u001b[1;33m.\u001b[0m\u001b[0mstartswith\u001b[0m\u001b[1;33m(\u001b[0m\u001b[0mself\u001b[0m\u001b[1;33m.\u001b[0m\u001b[0mipython_extension_dir\u001b[0m\u001b[1;33m)\u001b[0m\u001b[1;33m:\u001b[0m\u001b[1;33m\u001b[0m\u001b[1;33m\u001b[0m\u001b[0m\n\u001b[0;32m     82\u001b[0m                         print((\"Loading extensions from {dir} is deprecated. \"\n",
      "\u001b[1;32m~\\AppData\\Local\\Continuum\\anaconda3\\lib\\importlib\\__init__.py\u001b[0m in \u001b[0;36mimport_module\u001b[1;34m(name, package)\u001b[0m\n\u001b[0;32m    125\u001b[0m                 \u001b[1;32mbreak\u001b[0m\u001b[1;33m\u001b[0m\u001b[1;33m\u001b[0m\u001b[0m\n\u001b[0;32m    126\u001b[0m             \u001b[0mlevel\u001b[0m \u001b[1;33m+=\u001b[0m \u001b[1;36m1\u001b[0m\u001b[1;33m\u001b[0m\u001b[1;33m\u001b[0m\u001b[0m\n\u001b[1;32m--> 127\u001b[1;33m     \u001b[1;32mreturn\u001b[0m \u001b[0m_bootstrap\u001b[0m\u001b[1;33m.\u001b[0m\u001b[0m_gcd_import\u001b[0m\u001b[1;33m(\u001b[0m\u001b[0mname\u001b[0m\u001b[1;33m[\u001b[0m\u001b[0mlevel\u001b[0m\u001b[1;33m:\u001b[0m\u001b[1;33m]\u001b[0m\u001b[1;33m,\u001b[0m \u001b[0mpackage\u001b[0m\u001b[1;33m,\u001b[0m \u001b[0mlevel\u001b[0m\u001b[1;33m)\u001b[0m\u001b[1;33m\u001b[0m\u001b[1;33m\u001b[0m\u001b[0m\n\u001b[0m\u001b[0;32m    128\u001b[0m \u001b[1;33m\u001b[0m\u001b[0m\n\u001b[0;32m    129\u001b[0m \u001b[1;33m\u001b[0m\u001b[0m\n",
      "\u001b[1;32m~\\AppData\\Local\\Continuum\\anaconda3\\lib\\importlib\\_bootstrap.py\u001b[0m in \u001b[0;36m_gcd_import\u001b[1;34m(name, package, level)\u001b[0m\n",
      "\u001b[1;32m~\\AppData\\Local\\Continuum\\anaconda3\\lib\\importlib\\_bootstrap.py\u001b[0m in \u001b[0;36m_find_and_load\u001b[1;34m(name, import_)\u001b[0m\n",
      "\u001b[1;32m~\\AppData\\Local\\Continuum\\anaconda3\\lib\\importlib\\_bootstrap.py\u001b[0m in \u001b[0;36m_find_and_load_unlocked\u001b[1;34m(name, import_)\u001b[0m\n",
      "\u001b[1;31mModuleNotFoundError\u001b[0m: No module named 'watermark'"
     ]
    }
   ],
   "source": [
    "%pylab inline\n",
    "%load_ext watermark\n",
    "\n",
    "#python, ipython, pckages, and machine characteristics\n",
    "%watermark -v -m -p wget, pandas,numpy,geopy,altair,vega,vega_datasets,watermark\n",
    "\n",
    "# date\n",
    "print(\" \")\n",
    "%watermark -u -n -t -z"
   ]
  },
  {
   "cell_type": "markdown",
   "metadata": {},
   "source": [
    "## Função distribuição de Equilíbrio e Propriedades Macroscópicas\n",
    "\n",
    "A função distribuição de equilíbrio presente no modelo de colisão BGK é derivada através da consideração de um estado de equilíbrio, onde por definição as propriedades de densidade, quantidade de movimento e energia são conservadas. Em sua forma adimensional a função distribuição de equilíbrio é dada por\n",
    "\n",
    "$f^{eq}=\\rho \\left(\\displaystyle\\frac{1}{2\\pi (\\Theta+1) }\\right)^{\\frac{D}{2}}e^{-\\displaystyle\\frac{(\\boldsymbol{c}^{2}}{2(\\Theta+1)}},$\n",
    "\n",
    "onde $\\Theta=\\theta-1$ é o desvio de temperatura, $\\theta=T/T_{ref}$ a temperatura normalizada e $\\boldsymbol{c}=(\\boldsymbol{\\xi}-\\boldsymbol{u})$ representa a velocidade molecular peculiar.\n",
    "\n",
    "Integrando a função distribuição e a função distribuição equilíbrio sobre momentos no espaço de velocidades recuperam-se propriedades macroscópicas dos fluidos. As propriedades macroscópicas de equilíbrio, conservadas no processo de colisão, são obtidas por\n",
    "\n",
    "$\\rho=\\displaystyle\\int f^{eq} d\\boldsymbol{c}=\\displaystyle\\int f d\\boldsymbol{c},$\n",
    "\n",
    "$\\rho \\boldsymbol{u} =  \\displaystyle\\int \\boldsymbol{\\xi} f^{eq} d \\boldsymbol{c}=  \\displaystyle\\int \\boldsymbol{\\xi} f d \\boldsymbol{c},$\n",
    "\n",
    "$\\rho\\epsilon= \\frac{D}{2}\\left(\\rho \\left(\\Theta^{(p)} +1 \\right) \\right)= \\displaystyle\\int \\frac{1}{2}\\left(\\boldsymbol{\\xi} - \\boldsymbol{u}\\right)^{2} f^{eq} d \\boldsymbol{c} = \\displaystyle\\int \\frac{1}{2}\\left(\\boldsymbol{\\xi} - \\boldsymbol{u}\\right)^{2} f d \\boldsymbol{c}$."
   ]
  },
  {
   "cell_type": "markdown",
   "metadata": {},
   "source": [
    "## Projeção da Função Distribuição em Bases de Hermite\n",
    "\n",
    "Baseado na capacidade de descrição de momentos da função distribuição, Grad (1949) propôs a representação da função distribuição como uma expansão em séries de polinômios de Hermite:\n",
    "\n",
    "$f(\\boldsymbol{x}, \\boldsymbol{\\xi}, t)=w(\\boldsymbol{\\xi}) \\displaystyle\\sum_{n=0}^{\\infty} \\frac{1}{n !} \\boldsymbol{a}^{(n)}(\\boldsymbol{x}, t): \\mathcal{H}^{(n)}(\\boldsymbol{\\xi}),$\n",
    "\n",
    "onde $w(\\boldsymbol{\\xi})$ é a função peso, $\\boldsymbol{a}^{(n)}$ o coeficiente de expansão e $\\mathcal{H}^{(n)}$ o polinômio de Hermite. Ambos $\\boldsymbol{a}^{(n)}$ e $\\mathcal{H}^{(n)}$ são tensores de ordem $n$ e seus produtos são contrações completas (produtos escalares tensoriais). A função peso é dada por:\n",
    "\n",
    "$w(\\boldsymbol{\\xi})=\\displaystyle\\frac{1}{(2\\pi)^{2/D}} e^{\\left(\\displaystyle\\frac{-\\boldsymbol{\\xi}^{2}}{2}\\right)}.$\n",
    "\n",
    "Através da propriedades de ortogonalidade do polinômio de Hermite pode-se calcular o coeficiente expansão por\n",
    "\n",
    "$\\boldsymbol{a}^{(n)}(\\boldsymbol{x}, t)=\\int f(\\boldsymbol{x}, \\boldsymbol{\\xi}, t) \\mathcal{H}^{(n)}(\\boldsymbol{\\xi}) d \\boldsymbol{\\xi}.$\n",
    "\n",
    "Estendendo a mesma abordagem para a função distribuição de equilíbrio, onde\n",
    "\n",
    "$\\boldsymbol{a}^{(n)}_{eq}(\\boldsymbol{x}, t)=\\int f^{eq}(\\boldsymbol{x}, \\boldsymbol{\\xi}, t) \\mathcal{H}^{(n)}(\\boldsymbol{\\xi}) d \\boldsymbol{\\xi},$\n",
    "\n",
    "tem-se até a $4^{a}$ ordem do coeficiente de expansão equilíbrio \n",
    "\n",
    "$\\boldsymbol{a}^{(0)}_{eq}(\\boldsymbol{x}, t)=\\rho, \\hspace{1cm} \\boldsymbol{a}^{(1)}_{eq}(\\boldsymbol{x}, t)=\\rho \\boldsymbol{u}, \\hspace{1cm} \\boldsymbol{a}^{(2)}_{eq}(\\boldsymbol{x}, t)= \\rho\\boldsymbol{u} \\boldsymbol{u} + \\rho\\Theta \\boldsymbol{I},$\n",
    "\n",
    "$\\boldsymbol{a}^{(3)}_{eq}(\\boldsymbol{x}, t)= \\rho \\boldsymbol{u}\\boldsymbol{u}\\boldsymbol{u}+\\tilde{3} \\rho \\boldsymbol{u} \\Theta \\boldsymbol{I},$\n",
    "\n",
    "$\\boldsymbol{a}^{(4)}_{eq}(\\boldsymbol{x}, t)=\\rho \\boldsymbol{u} \\boldsymbol{u} \\boldsymbol{u} \\boldsymbol{u} + \\tilde{6}\\rho \\boldsymbol{u} \\boldsymbol{u} \\Theta  \\boldsymbol{I} +\\tilde{3}\\rho  \\Theta^{2} \\boldsymbol{I}\\boldsymbol{I}.$\n",
    "\n",
    "-------------------"
   ]
  },
  {
   "cell_type": "markdown",
   "metadata": {},
   "source": [
    "## Análise de Chapman-Enskog\n",
    "\n",
    "A metodologia de Chapman-Enskog pode ser empregada com o objetivo de estender a capacidade de representação da equação de Boltzmann. Tal metodologia consiste na análise escala da equação de Boltzmann baseado numa expansão assintótica em termos de Knudsen da função distribuição de equilíbrio e da derivada parcial no tempo:\n",
    "\n",
    "$f=f_{(0)}+Kn f_{(1)} + Kn^{2} f_{(2)}+\\cdots ,  \\hspace{1cm} \\partial_{t}=\\partial_{t}^{(0)}+ Kn \\partial_{t}^{(1)}+Kn^{2} \\partial_{t}^{(2)}+\\cdots.$\n",
    "\n",
    "Substituindo as Eqs. acima na Eq. de Boltzmann,  e separando os termos em ordem de Knudsen \\citep{Shan2006}, obtém-se\n",
    "\n",
    "$(Kn^{(-1)}): f_{(0)}=  f^{eq},$\n",
    "\n",
    "$(Kn^{(0)}): f_{(1)}=-\\tau\\left( \\partial_{t}^{(0)} + \\boldsymbol{\\xi}\\cdot\\nabla_{\\boldsymbol{x}} + g\\cdot\\nabla_{\\boldsymbol{\\xi}} \\right)f_{(0)},$\n",
    "\n",
    "$(Kn^{(1)}): f_{(2)}= -\\tau \\left( \\partial_{t}^{(1)}f_{(0)} + \\left( \\partial_{t}^{(0)} + \\boldsymbol{\\xi} \\cdot \\nabla_{\\boldsymbol{x}} + g\\cdot \\nabla_{\\boldsymbol{\\xi}} \\right)f_{(1)} \\right),$\n",
    "\n",
    "$(Kn^{(n)}): f_{(k+1)}=-\\tau \\left( \\displaystyle\\sum_{m=0}^{k} \\partial_{t}^{(k-m)} f_{(m)}^{(p)} + \\boldsymbol{\\xi} \\cdot \\nabla_{\\boldsymbol{x}} f_{(k)}^{(p)} + g\\cdot \\nabla_{\\boldsymbol{\\xi}} f_{(k)} \\right)$.\n",
    "\n",
    "Dado a relação de escala $Kn^{(-1)}$ obtida acima, pode se definir a parte não-equilíbrio da função distribuição como\n",
    "\n",
    "$f(\\boldsymbol{x}, \\boldsymbol{\\xi}, t)=f^{eq}(\\boldsymbol{x}, \\boldsymbol{\\xi}, t)+f^{neq}(\\boldsymbol{x}, \\boldsymbol{\\xi}, t),$\n",
    "\n",
    "onde\n",
    "\n",
    "$f^{neq}(\\boldsymbol{x}, \\boldsymbol{\\xi}, t)=f_{(1)} + f_{(2)} + f_{(3)} + \\cdots= \\displaystyle \\sum_{k=1}^{\\infty} \n",
    "f_{(k)}.$\n",
    "\n",
    "Projetando a função de não-equilíbrio em bases de Hermite, tem-se\n",
    "\n",
    "$f^{neq}(\\boldsymbol{x}, \\boldsymbol{\\xi}, t)=\\displaystyle\\sum_{k=1}^{\\infty}f_{(k)}=\n",
    "\\displaystyle\\sum_{k=1}^{\\infty} \\left(w(\\boldsymbol{\\xi}) \\sum_{n=0}^{\\infty} \\frac{1}{n !} \\boldsymbol{a}^{(n)}_{(k)}(\\boldsymbol{x}, t) \\mathcal{H}^{(n)}(\\boldsymbol{\\xi})\\right)$\n",
    "\n",
    "onde o coeficiente de expansão é dado por\n",
    "\n",
    "$\\boldsymbol{a}_{k+1}^{(n)}= -\\tau\\Bigg(\\displaystyle\\sum_{m=0}^{k} \\partial_{t}^{(k-m)}\\left(\\boldsymbol{a}_{m}^{(n)}\\right) + \\nabla_{\\boldsymbol{x}} \\cdot\\left(\\boldsymbol{a}_{k}^{(n+1)}\\right) +\\tilde{n} \\nabla_{\\boldsymbol{x}} \\cdot \\left( \\boldsymbol{a}_{k}^{(n-1)} \\boldsymbol{I} \\right) - \\tilde{n} \\boldsymbol{g} \\cdot\\left(\\boldsymbol{a}_{k}^{(n-1)} \\boldsymbol{I} \\right)\\Bigg)$.\n",
    "\n",
    "No objetivo de recuperar as equações de Navier-Stokes a função distribuição é truncada na ordem de $Kn$, resultando em $f^{neq}\\approx f_{(1)}$. Calculando os coeficientes para ${a}_{1}^{(n)}$:\n",
    "\n",
    "$\\boldsymbol{a}_{1}^{(0)}=0, \\hspace{1cm} \\boldsymbol{a}_{1}^{(1)}=0, \\hspace{1cm} \\boldsymbol{a}_{1}^{(2)}=-\\tau \\rho \\theta\\left(\\tilde{2} \\nabla \\boldsymbol{u}-\\displaystyle\\frac{2}{D}(\\nabla \\cdot \\boldsymbol{u} ) \\boldsymbol{I} \\right)$\n",
    "\n",
    "$\\boldsymbol{a}_{1}^{(3)}=-\\tau \\rho \\theta \\left(\\tilde{3} \\boldsymbol{u} \\left(\\tilde{2} \\nabla \\boldsymbol{u} - \\frac{2}{D}(\\nabla \\cdot \\boldsymbol{u} ) \\boldsymbol{I} \\right)+\\tilde{3} \\nabla \\theta \\boldsymbol{I} \\right).$\n",
    "\n",
    "----------------"
   ]
  },
  {
   "cell_type": "markdown",
   "metadata": {},
   "source": [
    "## Ordem de Truncação da Função Distribuição\n",
    "\n",
    "Truncando a Função Distribuição numa ordem $N$, tem-se\n",
    "\n",
    "$f_{(N)}(\\boldsymbol{x}, \\boldsymbol{\\xi}, t)=w(\\boldsymbol{\\xi}) \\displaystyle\\sum_{n=0}^{N} \\frac{1}{n !} \\boldsymbol{a}^{(n)}(\\boldsymbol{x}, t): \\mathcal{H}^{(n)}(\\boldsymbol{\\xi})=w(\\boldsymbol{\\xi}) \\displaystyle\\sum_{n=0}^{N} \\frac{1}{n !} \\left( \\boldsymbol{a}^{(n)}_{eq} + \\displaystyle\\sum_{k}^{\\infty} \\boldsymbol{a}^{(n)}_{k} \\right) :\\mathcal{H}^{(n)}(\\boldsymbol{\\xi}).$\n",
    "\n",
    "Truncando a representação da função distribuição de não-equilíbrio em $k=1$, tem-se\n",
    "\n",
    "\n",
    "$f_{(N,k)}(\\boldsymbol{x}, \\boldsymbol{\\xi}, t)=w(\\boldsymbol{\\xi}) \\displaystyle\\sum_{n=0}^{N} \\frac{1}{n !} \\boldsymbol{a}^{(n)}(\\boldsymbol{x}, t): \\mathcal{H}^{(n)}(\\boldsymbol{\\xi})=w(\\boldsymbol{\\xi}) \\displaystyle\\sum_{n=0}^{N} \\frac{1}{n !} \\left( \\boldsymbol{a}^{(n)}_{eq} + \\boldsymbol{a}^{(n)}_{1} \\right): \\mathcal{H}^{(n)}(\\boldsymbol{\\xi}).$\n",
    "\n",
    "$f^{eq}_{(3)}=w(\\boldsymbol{\\xi}) \\rho \\left( 1 + \\boldsymbol{\\xi}\\cdot \\boldsymbol{u} + \\underbrace{\\displaystyle\\frac{\\left(\\boldsymbol{u}\\boldsymbol{u}+\\Theta\\boldsymbol{I}\\right):\\left( \\boldsymbol{\\xi}\\boldsymbol{\\xi} - \\boldsymbol{I} \\right)}{2} }_{\\boldsymbol{a}^{(2)}_{eq}:\\mathcal{H}^{(2)}} +  \\underbrace{\\displaystyle\\frac{\\left(\\boldsymbol{u}\\boldsymbol{u}\\boldsymbol{u}+\\Theta\\boldsymbol{I}\\right):\\left( \\boldsymbol{\\xi}\\boldsymbol{\\xi}\\boldsymbol{\\xi} - \\tilde{3}\\boldsymbol{\\xi}\\boldsymbol{I} \\right)}{6} }_{\\boldsymbol{a}^{(3)}_{eq}:\\mathcal{H}^{(3)}} \\right)$\n",
    "\n",
    "$f^{neq}_{(3)}=-\\tau \\rho \\theta w(\\boldsymbol{\\xi}) \\left( \\underbrace{\\displaystyle\\frac{\\left(\\tilde{2} \\nabla \\boldsymbol{u}-\\displaystyle\\frac{2}{D}(\\nabla \\cdot \\boldsymbol{u} ) \\boldsymbol{I} \\right):\\left( \\boldsymbol{\\xi}\\boldsymbol{\\xi} - \\boldsymbol{I} \\right)}{2} }_{\\boldsymbol{a}^{(2)}_{1}:\\mathcal{H}^{(2)}} +  \\underbrace{\\displaystyle\\frac{ \\left(\\tilde{3} \\boldsymbol{u} \\left(\\tilde{2} \\nabla \\boldsymbol{u} - \\frac{2}{D}(\\nabla \\cdot \\boldsymbol{u} ) \\boldsymbol{I} \\right)+\\tilde{3} \\nabla \\theta \\boldsymbol{I} \\right):\\left( \\boldsymbol{\\xi}\\boldsymbol{\\xi}\\boldsymbol{\\xi} - \\tilde{3}\\boldsymbol{\\xi}\\boldsymbol{I} \\right)}{6} }_{\\boldsymbol{a}^{(3)}_{1}:\\mathcal{H}^{(3)}} \\right)$\n",
    "\n",
    "----------------------------------------------------------"
   ]
  },
  {
   "cell_type": "markdown",
   "metadata": {},
   "source": [
    "# Symbolic Integration of Continuous $f_{eq}$"
   ]
  },
  {
   "cell_type": "code",
   "execution_count": 1,
   "metadata": {},
   "outputs": [
    {
     "name": "stdout",
     "output_type": "stream",
     "text": [
      "Populating the interactive namespace from numpy and matplotlib\n"
     ]
    }
   ],
   "source": [
    "%pylab inline\n",
    "#from __future__ import division\n",
    "from sympy import *\n",
    "import numpy\n",
    "from sympy import S, collect, expand, factor, Wild\n",
    "from sympy import fraction, Rational, Symbol\n",
    "from sympy import series\n",
    "from sympy import init_printing, symbols, Function\n",
    "import sympy as sym\n",
    "init_printing()\n",
    "\n",
    "x, xix, xiy, ux, uy = symbols(\"x \\\\xi_{x} \\\\xi_{y} u_{x} u_{y}\")\n",
    "rho, tau, dux, duy, dvx, dvy = symbols(\"\\\\rho \\\\tau \\\\partial_{x}u_{x} \\\\partial_{y}u_{x} \\\\partial_{x}u_{y} \\\\partial_{y}u_{y}\")\n",
    "feqc = Function(\"f^{eq}_{c}\")\n",
    "feqg = Function(\"f^{eq}_{g}\")\n",
    "fneqg = Function(\"f^{eq}_{g}\")\n",
    "feqc=rho/(2*sym.pi)*exp((-(xix**2+xiy**2)+2*xix*ux+2*xiy*uy-ux**2-uy**2)/2)\n",
    "feqg=rho/(2*sym.pi)*exp(-(xix**2+xiy**2)/2)*(1+xix*ux+xiy*uy + (xix*ux+xiy*uy)**2/2 - (ux*ux+uy*uy)/2)\n",
    "fneqg=-tau*rho/(2*sym.pi)*exp(-(xix**2+xiy**2)/2)*( ( (dux-dvy)*(xix*xix-1) +2*(duy+dvx)*xix*xiy + (dvy-dux)*(xiy*xiy-1) )/2)"
   ]
  },
  {
   "cell_type": "code",
   "execution_count": 2,
   "metadata": {},
   "outputs": [
    {
     "data": {
      "image/png": "[encoded data removed]",
      "text/latex": [
       "$\\displaystyle \\frac{\\rho e^{- \\frac{\\xi_{x}^{2}}{2} + \\xi_{x} u_{x} - \\frac{\\xi_{y}^{2}}{2} + \\xi_{y} u_{y} - \\frac{u_{x}^{2}}{2} - \\frac{u_{y}^{2}}{2}}}{2 \\pi}$"
      ],
      "text/plain": [
       "               2                          2                        2        2\n",
       "        \\xi_{x}                    \\xi_{y}                    u_{x}    u_{y} \n",
       "      - ──────── + \\xi_{x}⋅u_{x} - ──────── + \\xi_{y}⋅u_{y} - ────── - ──────\n",
       "           2                          2                         2        2   \n",
       "\\rho⋅ℯ                                                                       \n",
       "─────────────────────────────────────────────────────────────────────────────\n",
       "                                     2⋅π                                     "
      ]
     },
     "execution_count": 2,
     "metadata": {},
     "output_type": "execute_result"
    }
   ],
   "source": [
    "feqc"
   ]
  },
  {
   "cell_type": "code",
   "execution_count": 78,
   "metadata": {},
   "outputs": [
    {
     "data": {
      "image/png": "[encoded data removed]",
      "text/latex": [
       "$\\displaystyle \\frac{\\rho \\operatorname{erf}{\\left(\\frac{\\sqrt{2} \\left(\\xi_{x} - u_{x}\\right)}{2} \\right)} \\operatorname{erf}{\\left(\\frac{\\sqrt{2} \\left(\\xi_{y} - u_{y}\\right)}{2} \\right)}}{4}$"
      ],
      "text/plain": [
       "        ⎛√2⋅(\\xi_{x} - u_{x})⎞    ⎛√2⋅(\\xi_{y} - u_{y})⎞\n",
       "\\rho⋅erf⎜────────────────────⎟⋅erf⎜────────────────────⎟\n",
       "        ⎝         2          ⎠    ⎝         2          ⎠\n",
       "────────────────────────────────────────────────────────\n",
       "                           4                            "
      ]
     },
     "execution_count": 78,
     "metadata": {},
     "output_type": "execute_result"
    }
   ],
   "source": [
    "simplify(integrate(feqc, xix,xiy))"
   ]
  },
  {
   "cell_type": "code",
   "execution_count": 79,
   "metadata": {},
   "outputs": [
    {
     "data": {
      "image/png": "[encoded data removed]",
      "text/latex": [
       "$\\displaystyle \\rho$"
      ],
      "text/plain": [
       "\\rho"
      ]
     },
     "execution_count": 79,
     "metadata": {},
     "output_type": "execute_result"
    }
   ],
   "source": [
    "simplify(integrate(feqc, (xix,-oo,oo),(xiy,-oo,oo)))"
   ]
  },
  {
   "cell_type": "code",
   "execution_count": 80,
   "metadata": {},
   "outputs": [
    {
     "data": {
      "image/png": "[encoded data removed]",
      "text/latex": [
       "$\\displaystyle \\rho u_{x}$"
      ],
      "text/plain": [
       "\\rho⋅u_{x}"
      ]
     },
     "execution_count": 80,
     "metadata": {},
     "output_type": "execute_result"
    }
   ],
   "source": [
    "simplify(integrate(feqc*xix, (xix,-oo,oo),(xiy,-oo,oo)))"
   ]
  },
  {
   "cell_type": "code",
   "execution_count": 81,
   "metadata": {},
   "outputs": [
    {
     "data": {
      "image/png": "[encoded data removed]",
      "text/latex": [
       "$\\displaystyle \\rho u_{y}$"
      ],
      "text/plain": [
       "\\rho⋅u_{y}"
      ]
     },
     "execution_count": 81,
     "metadata": {},
     "output_type": "execute_result"
    }
   ],
   "source": [
    "simplify(integrate(feqc*xiy, (xix,-oo,oo),(xiy,-oo,oo)))"
   ]
  },
  {
   "cell_type": "markdown",
   "metadata": {},
   "source": [
    "# Symbolic Integration of Continuous Grad $f_{eq}$"
   ]
  },
  {
   "cell_type": "code",
   "execution_count": 117,
   "metadata": {},
   "outputs": [
    {
     "data": {
      "image/png": "[encoded data removed]",
      "text/latex": [
       "$\\displaystyle \\frac{\\rho \\left(\\xi_{x} u_{x} + \\xi_{y} u_{y} - \\frac{u_{x}^{2}}{2} - \\frac{u_{y}^{2}}{2} + \\frac{\\left(\\xi_{x} u_{x} + \\xi_{y} u_{y}\\right)^{2}}{2} + 1\\right) e^{- \\frac{\\xi_{x}^{2}}{2} - \\frac{\\xi_{y}^{2}}{2}}}{2 \\pi}$"
      ],
      "text/plain": [
       "                                                                              \n",
       "                                                                              \n",
       "     ⎛                                     2        2                         \n",
       "     ⎜                                u_{x}    u_{y}    (\\xi_{x}⋅u_{x} + \\xi_{\n",
       "\\rho⋅⎜\\xi_{x}⋅u_{x} + \\xi_{y}⋅u_{y} - ────── - ────── + ──────────────────────\n",
       "     ⎝                                  2        2                     2      \n",
       "──────────────────────────────────────────────────────────────────────────────\n",
       "                                                        2⋅π                   \n",
       "\n",
       "                          2          2\n",
       "                   \\xi_{x}    \\xi_{y} \n",
       "         2    ⎞  - ──────── - ────────\n",
       "y}⋅u_{y})     ⎟       2          2    \n",
       "────────── + 1⎟⋅ℯ                     \n",
       "              ⎠                       \n",
       "──────────────────────────────────────\n",
       "                                      "
      ]
     },
     "execution_count": 117,
     "metadata": {},
     "output_type": "execute_result"
    }
   ],
   "source": [
    "feqg"
   ]
  },
  {
   "cell_type": "code",
   "execution_count": 118,
   "metadata": {},
   "outputs": [
    {
     "data": {
      "image/png": "[encoded data removed]",
      "text/latex": [
       "$\\displaystyle \\frac{\\rho \\left(4 u_{x} u_{y} e^{\\frac{\\xi_{x}^{2}}{2} + \\frac{\\xi_{y}^{2}}{2}} - \\sqrt{2} \\sqrt{\\pi} u_{x} \\left(\\xi_{x} u_{x} + 2\\right) e^{\\frac{\\xi_{x}^{2}}{2} + \\xi_{y}^{2}} \\operatorname{erf}{\\left(\\frac{\\sqrt{2} \\xi_{y}}{2} \\right)} - \\sqrt{2} \\sqrt{\\pi} u_{y} \\left(\\xi_{y} u_{y} + 2\\right) e^{\\xi_{x}^{2} + \\frac{\\xi_{y}^{2}}{2}} \\operatorname{erf}{\\left(\\frac{\\sqrt{2} \\xi_{x}}{2} \\right)} + 2 \\pi e^{\\xi_{x}^{2} + \\xi_{y}^{2}} \\operatorname{erf}{\\left(\\frac{\\sqrt{2} \\xi_{x}}{2} \\right)} \\operatorname{erf}{\\left(\\frac{\\sqrt{2} \\xi_{y}}{2} \\right)}\\right) e^{- \\xi_{x}^{2} - \\xi_{y}^{2}}}{8 \\pi}$"
      ],
      "text/plain": [
       "     ⎛                      2          2                                      \n",
       "     ⎜               \\xi_{x}    \\xi_{y}                                     \\x\n",
       "     ⎜               ──────── + ────────                                    ──\n",
       "     ⎜                  2          2                                          \n",
       "\\rho⋅⎜4⋅u_{x}⋅u_{y}⋅ℯ                    - √2⋅√π⋅u_{x}⋅(\\xi_{x}⋅u_{x} + 2)⋅ℯ  \n",
       "     ⎝                                                                        \n",
       "──────────────────────────────────────────────────────────────────────────────\n",
       "                                                                              \n",
       "\n",
       "     2                                                                        \n",
       "i_{x}           2                                                           2 \n",
       "────── + \\xi_{y}                                                     \\xi_{x}  \n",
       " 2                   ⎛√2⋅\\xi_{y}⎞                                             \n",
       "                 ⋅erf⎜──────────⎟ - √2⋅√π⋅u_{y}⋅(\\xi_{y}⋅u_{y} + 2)⋅ℯ         \n",
       "                     ⎝    2     ⎠                                             \n",
       "──────────────────────────────────────────────────────────────────────────────\n",
       "                                                     8⋅π                      \n",
       "\n",
       "         2                                                                    \n",
       "  \\xi_{y}                                                                     \n",
       "+ ────────                               2          2                         \n",
       "     2        ⎛√2⋅\\xi_{x}⎞        \\xi_{x}  + \\xi_{y}     ⎛√2⋅\\xi_{x}⎞    ⎛√2⋅\\\n",
       "          ⋅erf⎜──────────⎟ + 2⋅π⋅ℯ                   ⋅erf⎜──────────⎟⋅erf⎜────\n",
       "              ⎝    2     ⎠                               ⎝    2     ⎠    ⎝    \n",
       "──────────────────────────────────────────────────────────────────────────────\n",
       "                                                                              \n",
       "\n",
       "       ⎞                       \n",
       "       ⎟                       \n",
       "       ⎟           2          2\n",
       "xi_{y}⎞⎟  - \\xi_{x}  - \\xi_{y} \n",
       "──────⎟⎟⋅ℯ                     \n",
       "2     ⎠⎠                       \n",
       "───────────────────────────────\n",
       "                               "
      ]
     },
     "execution_count": 118,
     "metadata": {},
     "output_type": "execute_result"
    }
   ],
   "source": [
    "simplify(integrate(feqg, xix,xiy))"
   ]
  },
  {
   "cell_type": "code",
   "execution_count": 119,
   "metadata": {},
   "outputs": [
    {
     "data": {
      "image/png": "[encoded data removed]",
      "text/latex": [
       "$\\displaystyle \\rho$"
      ],
      "text/plain": [
       "\\rho"
      ]
     },
     "execution_count": 119,
     "metadata": {},
     "output_type": "execute_result"
    }
   ],
   "source": [
    "simplify(integrate(feqg, (xix,-oo,oo),(xiy,-oo,oo)))"
   ]
  },
  {
   "cell_type": "code",
   "execution_count": 120,
   "metadata": {},
   "outputs": [
    {
     "data": {
      "image/png": "[encoded data removed]",
      "text/latex": [
       "$\\displaystyle \\rho u_{x}$"
      ],
      "text/plain": [
       "\\rho⋅u_{x}"
      ]
     },
     "execution_count": 120,
     "metadata": {},
     "output_type": "execute_result"
    }
   ],
   "source": [
    "simplify(integrate(feqg*xix, (xix,-oo,oo),(xiy,-oo,oo)))"
   ]
  },
  {
   "cell_type": "code",
   "execution_count": 121,
   "metadata": {},
   "outputs": [
    {
     "data": {
      "image/png": "[encoded data removed]",
      "text/latex": [
       "$\\displaystyle \\rho u_{y}$"
      ],
      "text/plain": [
       "\\rho⋅u_{y}"
      ]
     },
     "execution_count": 121,
     "metadata": {},
     "output_type": "execute_result"
    }
   ],
   "source": [
    "simplify(integrate(feqg*xiy, (xix,-oo,oo),(xiy,-oo,oo)))"
   ]
  },
  {
   "cell_type": "code",
   "execution_count": 122,
   "metadata": {},
   "outputs": [
    {
     "data": {
      "image/png": "[encoded data removed]",
      "text/latex": [
       "$\\displaystyle \\rho \\left(u_{x}^{2} + 1\\right)$"
      ],
      "text/plain": [
       "     ⎛     2    ⎞\n",
       "\\rho⋅⎝u_{x}  + 1⎠"
      ]
     },
     "execution_count": 122,
     "metadata": {},
     "output_type": "execute_result"
    }
   ],
   "source": [
    "simplify(integrate(feqg*xix*xix, (xix,-oo,oo),(xiy,-oo,oo)))"
   ]
  },
  {
   "cell_type": "code",
   "execution_count": 123,
   "metadata": {},
   "outputs": [
    {
     "data": {
      "image/png": "[encoded data removed]",
      "text/latex": [
       "$\\displaystyle \\rho \\left(u_{y}^{2} + 1\\right)$"
      ],
      "text/plain": [
       "     ⎛     2    ⎞\n",
       "\\rho⋅⎝u_{y}  + 1⎠"
      ]
     },
     "execution_count": 123,
     "metadata": {},
     "output_type": "execute_result"
    }
   ],
   "source": [
    "simplify(integrate(feqg*xiy*xiy, (xix,-oo,oo),(xiy,-oo,oo)))"
   ]
  },
  {
   "cell_type": "markdown",
   "metadata": {},
   "source": [
    "## Symbolic Integration of Continuous Grad $f_{neq}$"
   ]
  },
  {
   "cell_type": "code",
   "execution_count": 124,
   "metadata": {},
   "outputs": [
    {
     "data": {
      "text/latex": [
       "$\\displaystyle \\left[\\begin{matrix}\\partial_{x}u_{x} - \\partial_{y}u_{y} & \\partial_{x}u_{y} + \\partial_{y}u_{x}\\\\\\partial_{x}u_{y} + \\partial_{y}u_{x} & - \\partial_{x}u_{x} + \\partial_{y}u_{y}\\end{matrix}\\right]$"
      ],
      "text/plain": [
       "⎡\\partial_{x}u_{x} - \\partial_{y}u_{y}  \\partial_{x}u_{y} + \\partial_{y}u_{x} \n",
       "⎢                                                                             \n",
       "⎣\\partial_{x}u_{y} + \\partial_{y}u_{x}  -\\partial_{x}u_{x} + \\partial_{y}u_{y}\n",
       "\n",
       "⎤\n",
       "⎥\n",
       "⎦"
      ]
     },
     "metadata": {},
     "output_type": "display_data"
    },
    {
     "data": {
      "text/latex": [
       "$\\displaystyle \\left[\\begin{matrix}\\xi_{x}^{2} - 1 & \\xi_{x} \\xi_{y}\\\\\\xi_{x} \\xi_{y} & \\xi_{y}^{2} - 1\\end{matrix}\\right]$"
      ],
      "text/plain": [
       "⎡        2                       ⎤\n",
       "⎢ \\xi_{x}  - 1    \\xi_{x}⋅\\xi_{y}⎥\n",
       "⎢                                ⎥\n",
       "⎢                         2      ⎥\n",
       "⎣\\xi_{x}⋅\\xi_{y}   \\xi_{y}  - 1  ⎦"
      ]
     },
     "metadata": {},
     "output_type": "display_data"
    },
    {
     "data": {
      "text/latex": [
       "$\\displaystyle \\left[\\begin{matrix}2 \\xi_{x} \\xi_{y} \\left(\\partial_{x}u_{y} + \\partial_{y}u_{x}\\right) + \\left(- \\partial_{x}u_{x} + \\partial_{y}u_{y}\\right) \\left(\\xi_{y}^{2} - 1\\right) + \\left(\\partial_{x}u_{x} - \\partial_{y}u_{y}\\right) \\left(\\xi_{x}^{2} - 1\\right)\\end{matrix}\\right]$"
      ],
      "text/plain": [
       "⎡                                                                             \n",
       "⎣2⋅\\xi_{x}⋅\\xi_{y}⋅(\\partial_{x}u_{y} + \\partial_{y}u_{x}) + (-\\partial_{x}u_{\n",
       "\n",
       "                        ⎛       2    ⎞                                        \n",
       "x} + \\partial_{y}u_{y})⋅⎝\\xi_{y}  - 1⎠ + (\\partial_{x}u_{x} - \\partial_{y}u_{y\n",
       "\n",
       "   ⎛       2    ⎞⎤\n",
       "})⋅⎝\\xi_{x}  - 1⎠⎦"
      ]
     },
     "metadata": {},
     "output_type": "display_data"
    }
   ],
   "source": [
    "from IPython.display import display, Latex\n",
    "divu=Matrix([[dux,duy],[dvx,dvy]])\n",
    "graduI=eye(2)*(dux+dvy)\n",
    "H2=Matrix([[xix*xix,xix*xiy],[xiy*xix,xiy*xiy]])- eye(2)\n",
    "a21=divu+divu.transpose()-graduI\n",
    "display(a21)\n",
    "display(H2)\n",
    "AH2=Matrix([tensordot(a21, H2)])\n",
    "display(AH2)"
   ]
  },
  {
   "cell_type": "code",
   "execution_count": 131,
   "metadata": {},
   "outputs": [
    {
     "data": {
      "image/png": "[encoded data removed]",
      "text/latex": [
       "$\\displaystyle \\rho \\tau \\left(- \\partial_{x}u_{x} + \\partial_{y}u_{y}\\right)$"
      ],
      "text/plain": [
       "\\rho⋅\\tau⋅(-\\partial_{x}u_{x} + \\partial_{y}u_{y})"
      ]
     },
     "execution_count": 131,
     "metadata": {},
     "output_type": "execute_result"
    }
   ],
   "source": [
    "simplify(integrate(fneqg*xix*xix, (xix,-oo,oo),(xiy,-oo,oo)))"
   ]
  },
  {
   "cell_type": "code",
   "execution_count": 132,
   "metadata": {},
   "outputs": [
    {
     "data": {
      "image/png": "[encoded data removed]",
      "text/latex": [
       "$\\displaystyle \\rho \\tau \\left(\\partial_{x}u_{x} - \\partial_{y}u_{y}\\right)$"
      ],
      "text/plain": [
       "\\rho⋅\\tau⋅(\\partial_{x}u_{x} - \\partial_{y}u_{y})"
      ]
     },
     "execution_count": 132,
     "metadata": {},
     "output_type": "execute_result"
    }
   ],
   "source": [
    "simplify(integrate(fneqg*xiy*xiy, (xix,-oo,oo),(xiy,-oo,oo)))"
   ]
  },
  {
   "cell_type": "code",
   "execution_count": 133,
   "metadata": {},
   "outputs": [
    {
     "data": {
      "image/png": "[encoded data removed]",
      "text/latex": [
       "$\\displaystyle - \\rho \\tau \\left(\\partial_{x}u_{y} + \\partial_{y}u_{x}\\right)$"
      ],
      "text/plain": [
       "-\\rho⋅\\tau⋅(\\partial_{x}u_{y} + \\partial_{y}u_{x})"
      ]
     },
     "execution_count": 133,
     "metadata": {},
     "output_type": "execute_result"
    }
   ],
   "source": [
    "simplify(integrate(fneqg*xix*xiy, (xix,-oo,oo),(xiy,-oo,oo)))"
   ]
  },
  {
   "cell_type": "markdown",
   "metadata": {},
   "source": [
    "## Taylor-Green Vortex\n",
    "\n",
    "The Taylor-Green flow is unsteady and fully periodic in a domain of size $L_{x}\\times L_{y}$. Formulated in two spatial dimensions its velocity and pressure fields read:\n",
    "\n",
    "$\\boldsymbol{u}(\\boldsymbol{x}, t)=u_{0}\\left(\\begin{array}{c}-\\sqrt{k_{y} / k_{x}} \\cos \\left(k_{x} x\\right) \\sin \\left(k_{y} y\\right) \\\\ \\sqrt{k_{x} / k_{y}} \\sin \\left(k_{x} x\\right) \\cos \\left(k_{y} y\\right)\\end{array}\\right) \\mathrm{e}^{-t / t_{\\mathrm{d}}}$\n",
    "\n",
    "and\n",
    "\n",
    "$p(\\boldsymbol{x}, t)=p_{0}-\\rho \\frac{u_{0}^{2}}{4}\\left[\\frac{k_{y}}{k_{x}} \\cos \\left(2 k_{x} x\\right)+\\frac{k_{x}}{k_{y}} \\cos \\left(2 k_{y} y\\right)\\right] \\mathrm{e}^{-2 t / t_{\\mathrm{d}}}.$\n",
    "\n",
    "Here, $u_{0}$ is the initial velocity scale, $k_{x,y}=2\\pi/L_{x,y}$ are the components of the wave\n",
    "vector $\\boldsymbol{k}$ and\n",
    "$t_{\\mathrm{d}}=\\frac{1}{v\\left(k_{x}^{2}+k_{y}^{2}\\right)},$\n",
    "is the vortex decay time. The pressure average p0 is arbitrary and does not enter the Navier-Stokes equations. The initial state is defined by $\\boldsymbol{u}(\\boldsymbol{x},0)$ and $p(\\boldsymbol{x},0)$."
   ]
  },
  {
   "cell_type": "markdown",
   "metadata": {},
   "source": [
    "## Aplicação das Equações Governantes "
   ]
  },
  {
   "cell_type": "markdown",
   "metadata": {},
   "source": [
    "### Mass Conservation\n",
    "\n",
    "A equação de balanço de massa é dada por:\n",
    "\n",
    "$\\partial_{t}\\rho +\\nabla\\left(\\rho \\boldsymbol{u}\\right)=0$\n",
    "\n",
    "Considerando o problema de Taylor-Green e as características de compressibilidade da equação de Boltzmann tem-se:\n",
    "\n",
    "$\\rho(\\boldsymbol{x}, t)=\\rho_{0}-\\rho_{0} \\frac{u_{0}^{2}}{4}\\left[\\frac{k_{y}}{k_{x}} \\cos \\left(2 k_{x} x\\right)+\\frac{k_{x}}{k_{y}} \\cos \\left(2 k_{y} y\\right)\\right] \\mathrm{e}^{-2 t / t_{\\mathrm{d}}}.$"
   ]
  },
  {
   "cell_type": "code",
   "execution_count": 2,
   "metadata": {},
   "outputs": [
    {
     "name": "stdout",
     "output_type": "stream",
     "text": [
      "Populating the interactive namespace from numpy and matplotlib\n"
     ]
    },
    {
     "name": "stderr",
     "output_type": "stream",
     "text": [
      "D:\\ArquivosProgramas\\lib\\site-packages\\IPython\\core\\magics\\pylab.py:159: UserWarning: pylab import has clobbered these variables: ['diff', 'nan', 'eye', 'product', 'sin', 'cbrt', 'conjugate', 'sign', 'plot', 'Line2D', 'log', 'binomial', 'sqrt', 'test', 'roots', 'diag', 'beta', 'det', 'ifft', 'reshape', 'Polygon', 'exp', 'gcd', 'plotting', 'lcm', 'vectorize', 'solve', 'Number', 'seterr', 'sinh', 'source', 'trunc', 'zeros', 'Circle', 'var', 'flatten', 'fft', 'poly', 'floor', 'transpose', 'interactive', 'take', 'tan', 'trace', 'shape', 'partition', 'prod', 'minimum', 'sinc', 'cosh', 'gamma', 'tanh', 'cos', 'pi', 'ones', 'maximum', 're', 'invert']\n",
      "`%matplotlib` prevents importing * from pylab and numpy\n",
      "  warn(\"pylab import has clobbered these variables: %s\"  % clobbered +\n"
     ]
    }
   ],
   "source": [
    "%pylab inline\n",
    "#from __future__ import division\n",
    "from sympy import *\n",
    "import numpy\n",
    "from sympy import S, collect, expand, factor, Wild\n",
    "from sympy import fraction, Rational, Symbol\n",
    "from sympy import series\n",
    "from sympy import init_printing, symbols, Function\n",
    "import sympy as sym\n",
    "rho0, u0, kx, ky, t, x, y, td, nu = symbols(\"\\\\rho_{0} u_{0} k_{x} k_{y} t x y t_{d} \\\\nu\")\n",
    "rhof = Function(\"rho_{f}\")(x, y, t)\n",
    "uf = Function(\"rho_{f}\")(x, y, t)\n",
    "vf = Function(\"rho_{f}\")(x, y, t)\n",
    "rhof=rho0-rho0*u0*u0/4*(cos(2*kx*x)+cos(2*ky*y))*exp(-2*t/td)\n",
    "uf=u0*(-cos(kx*x)*sin(ky*y))*exp(-t/td)\n",
    "vf=u0*(sin(kx*x)*cos(ky*y))*exp(-t/td)"
   ]
  },
  {
   "cell_type": "code",
   "execution_count": 3,
   "metadata": {},
   "outputs": [
    {
     "name": "stderr",
     "output_type": "stream",
     "text": [
      "D:\\ArquivosProgramas\\lib\\site-packages\\IPython\\lib\\latextools.py:126: MatplotlibDeprecationWarning: \n",
      "The to_png function was deprecated in Matplotlib 3.4 and will be removed two minor releases later. Use mathtext.math_to_image instead.\n",
      "  mt.to_png(f, s, fontsize=12, dpi=dpi, color=color)\n",
      "D:\\ArquivosProgramas\\lib\\site-packages\\IPython\\lib\\latextools.py:126: MatplotlibDeprecationWarning: \n",
      "The to_rgba function was deprecated in Matplotlib 3.4 and will be removed two minor releases later. Use mathtext.math_to_image instead.\n",
      "  mt.to_png(f, s, fontsize=12, dpi=dpi, color=color)\n",
      "D:\\ArquivosProgramas\\lib\\site-packages\\IPython\\lib\\latextools.py:126: MatplotlibDeprecationWarning: \n",
      "The to_mask function was deprecated in Matplotlib 3.4 and will be removed two minor releases later. Use mathtext.math_to_image instead.\n",
      "  mt.to_png(f, s, fontsize=12, dpi=dpi, color=color)\n",
      "D:\\ArquivosProgramas\\lib\\site-packages\\IPython\\lib\\latextools.py:126: MatplotlibDeprecationWarning: \n",
      "The MathtextBackendBitmap class was deprecated in Matplotlib 3.4 and will be removed two minor releases later. Use mathtext.math_to_image instead.\n",
      "  mt.to_png(f, s, fontsize=12, dpi=dpi, color=color)\n"
     ]
    },
    {
     "data": {
      "image/png": "[encoded data removed]",
      "text/latex": [
       "$\\displaystyle - \\frac{\\rho_{0} u_{0}^{2} \\left(\\cos{\\left(2 k_{x} x \\right)} + \\cos{\\left(2 k_{y} y \\right)}\\right) e^{- \\frac{2 t}{t_{d}}}}{4} + \\rho_{0}$"
      ],
      "text/plain": [
       "                                                     -2⋅t            \n",
       "                                                     ─────           \n",
       "                2                                    t_{d}           \n",
       "  \\rho_{0}⋅u_{0} ⋅(cos(2⋅k_{x}⋅x) + cos(2⋅k_{y}⋅y))⋅ℯ                \n",
       "- ──────────────────────────────────────────────────────── + \\rho_{0}\n",
       "                             4                                       "
      ]
     },
     "execution_count": 3,
     "metadata": {},
     "output_type": "execute_result"
    }
   ],
   "source": [
    "rhof"
   ]
  },
  {
   "cell_type": "code",
   "execution_count": 4,
   "metadata": {},
   "outputs": [
    {
     "data": {
      "image/png": "[encoded data removed]",
      "text/latex": [
       "$\\displaystyle \\frac{\\rho_{0} u_{0}^{2} \\left(\\cos{\\left(2 k_{x} x \\right)} + \\cos{\\left(2 k_{y} y \\right)}\\right) e^{- \\frac{2 t}{t_{d}}}}{2 t_{d}}$"
      ],
      "text/plain": [
       "                                                   -2⋅t \n",
       "                                                   ─────\n",
       "              2                                    t_{d}\n",
       "\\rho_{0}⋅u_{0} ⋅(cos(2⋅k_{x}⋅x) + cos(2⋅k_{y}⋅y))⋅ℯ     \n",
       "────────────────────────────────────────────────────────\n",
       "                        2⋅t_{d}                         "
      ]
     },
     "execution_count": 4,
     "metadata": {},
     "output_type": "execute_result"
    }
   ],
   "source": [
    "sym.diff(rhof, t)"
   ]
  },
  {
   "cell_type": "code",
   "execution_count": 5,
   "metadata": {},
   "outputs": [
    {
     "data": {
      "image/png": "[encoded data removed]",
      "text/latex": [
       "$\\displaystyle - \\frac{\\rho_{0} k_{x} u_{0}^{3} e^{- \\frac{3 t}{t_{d}}} \\sin{\\left(2 k_{x} x \\right)} \\sin{\\left(k_{y} y \\right)} \\cos{\\left(k_{x} x \\right)}}{2} + k_{x} u_{0} \\left(- \\frac{\\rho_{0} u_{0}^{2} \\left(\\cos{\\left(2 k_{x} x \\right)} + \\cos{\\left(2 k_{y} y \\right)}\\right) e^{- \\frac{2 t}{t_{d}}}}{4} + \\rho_{0}\\right) e^{- \\frac{t}{t_{d}}} \\sin{\\left(k_{x} x \\right)} \\sin{\\left(k_{y} y \\right)}$"
      ],
      "text/plain": [
       "                         -3⋅t                                                 \n",
       "                         ─────                                                \n",
       "                      3  t_{d}                                                \n",
       "  \\rho_{0}⋅k_{x}⋅u_{0} ⋅ℯ     ⋅sin(2⋅k_{x}⋅x)⋅sin(k_{y}⋅y)⋅cos(k_{x}⋅x)       \n",
       "- ───────────────────────────────────────────────────────────────────── + k_{x\n",
       "                                    2                                         \n",
       "\n",
       "        ⎛                                                     -2⋅t            \n",
       "        ⎜                                                     ─────           \n",
       "        ⎜                2                                    t_{d}           \n",
       "        ⎜  \\rho_{0}⋅u_{0} ⋅(cos(2⋅k_{x}⋅x) + cos(2⋅k_{y}⋅y))⋅ℯ                \n",
       "}⋅u_{0}⋅⎜- ──────────────────────────────────────────────────────── + \\rho_{0}\n",
       "        ⎝                             4                                       \n",
       "\n",
       "⎞                                 \n",
       "⎟   -t                            \n",
       "⎟  ─────                          \n",
       "⎟  t_{d}                          \n",
       "⎟⋅ℯ     ⋅sin(k_{x}⋅x)⋅sin(k_{y}⋅y)\n",
       "⎠                                 "
      ]
     },
     "execution_count": 5,
     "metadata": {},
     "output_type": "execute_result"
    }
   ],
   "source": [
    "sym.diff(rhof*uf, x)"
   ]
  },
  {
   "cell_type": "code",
   "execution_count": 6,
   "metadata": {},
   "outputs": [
    {
     "data": {
      "image/png": "[encoded data removed]",
      "text/latex": [
       "$\\displaystyle \\frac{\\rho_{0} k_{y} u_{0}^{3} e^{- \\frac{3 t}{t_{d}}} \\sin{\\left(k_{x} x \\right)} \\sin{\\left(2 k_{y} y \\right)} \\cos{\\left(k_{y} y \\right)}}{2} - k_{y} u_{0} \\left(- \\frac{\\rho_{0} u_{0}^{2} \\left(\\cos{\\left(2 k_{x} x \\right)} + \\cos{\\left(2 k_{y} y \\right)}\\right) e^{- \\frac{2 t}{t_{d}}}}{4} + \\rho_{0}\\right) e^{- \\frac{t}{t_{d}}} \\sin{\\left(k_{x} x \\right)} \\sin{\\left(k_{y} y \\right)}$"
      ],
      "text/plain": [
       "                       -3⋅t                                                   \n",
       "                       ─────                                                  \n",
       "                    3  t_{d}                                                  \n",
       "\\rho_{0}⋅k_{y}⋅u_{0} ⋅ℯ     ⋅sin(k_{x}⋅x)⋅sin(2⋅k_{y}⋅y)⋅cos(k_{y}⋅y)         \n",
       "───────────────────────────────────────────────────────────────────── - k_{y}⋅\n",
       "                                  2                                           \n",
       "\n",
       "      ⎛                                                     -2⋅t            ⎞ \n",
       "      ⎜                                                     ─────           ⎟ \n",
       "      ⎜                2                                    t_{d}           ⎟ \n",
       "      ⎜  \\rho_{0}⋅u_{0} ⋅(cos(2⋅k_{x}⋅x) + cos(2⋅k_{y}⋅y))⋅ℯ                ⎟ \n",
       "u_{0}⋅⎜- ──────────────────────────────────────────────────────── + \\rho_{0}⎟⋅\n",
       "      ⎝                             4                                       ⎠ \n",
       "\n",
       "                                \n",
       "  -t                            \n",
       " ─────                          \n",
       " t_{d}                          \n",
       "ℯ     ⋅sin(k_{x}⋅x)⋅sin(k_{y}⋅y)\n",
       "                                "
      ]
     },
     "execution_count": 6,
     "metadata": {},
     "output_type": "execute_result"
    }
   ],
   "source": [
    "sym.diff(rhof*vf, y)"
   ]
  },
  {
   "cell_type": "code",
   "execution_count": 7,
   "metadata": {},
   "outputs": [
    {
     "data": {
      "image/png": "[encoded data removed]",
      "text/latex": [
       "$\\displaystyle \\frac{\\rho_{0} u_{0}^{2} \\left(2 k_{x} t_{d} u_{0} \\left(\\sin^{3}{\\left(k_{x} x \\right)} \\sin{\\left(k_{x} y \\right)} - \\sin{\\left(k_{x} x \\right)} \\sin^{3}{\\left(k_{x} y \\right)}\\right) + \\left(\\cos{\\left(2 k_{x} x \\right)} + \\cos{\\left(2 k_{x} y \\right)}\\right) e^{\\frac{t}{t_{d}}}\\right) e^{- \\frac{3 t}{t_{d}}}}{2 t_{d}}$"
      ],
      "text/plain": [
       "                ⎛                                                             \n",
       "                ⎜                                                             \n",
       "              2 ⎜                    ⎛   3                                    \n",
       "\\rho_{0}⋅u_{0} ⋅⎝2⋅k_{x}⋅t_{d}⋅u_{0}⋅⎝sin (k_{x}⋅x)⋅sin(k_{x}⋅y) - sin(k_{x}⋅x\n",
       "──────────────────────────────────────────────────────────────────────────────\n",
       "                                                                     2⋅t_{d}  \n",
       "\n",
       "                                                        t  ⎞  -3⋅t \n",
       "                                                      ─────⎟  ─────\n",
       "     3         ⎞                                      t_{d}⎟  t_{d}\n",
       ")⋅sin (k_{x}⋅y)⎠ + (cos(2⋅k_{x}⋅x) + cos(2⋅k_{x}⋅y))⋅ℯ     ⎠⋅ℯ     \n",
       "───────────────────────────────────────────────────────────────────\n",
       "                                                                   "
      ]
     },
     "execution_count": 7,
     "metadata": {},
     "output_type": "execute_result"
    }
   ],
   "source": [
    "simplify(simplify(sym.diff(rhof, t)+sym.diff(rhof*uf, x)+sym.diff(rhof*vf, y)).subs(ky,kx))"
   ]
  },
  {
   "cell_type": "code",
   "execution_count": 8,
   "metadata": {},
   "outputs": [
    {
     "data": {
      "image/png": "[encoded data removed]",
      "text/latex": [
       "$\\displaystyle 0$"
      ],
      "text/plain": [
       "0"
      ]
     },
     "execution_count": 8,
     "metadata": {},
     "output_type": "execute_result"
    }
   ],
   "source": [
    "simplify(sym.diff(uf, x)+sym.diff(vf, y)).subs(ky,kx)"
   ]
  },
  {
   "cell_type": "code",
   "execution_count": 9,
   "metadata": {},
   "outputs": [
    {
     "data": {
      "image/png": "[encoded data removed]",
      "text/latex": [
       "$\\displaystyle \\nu u_{0}^{2} \\left(\\left(\\cos{\\left(2 x \\right)} + \\cos{\\left(2 y \\right)}\\right) e^{2 \\nu t} + \\frac{u_{0} \\left(\\sin^{3}{\\left(x \\right)} \\sin{\\left(y \\right)} - \\sin{\\left(x \\right)} \\sin^{3}{\\left(y \\right)}\\right)}{\\nu}\\right) e^{- 6 \\nu t}$"
      ],
      "text/plain": [
       "           ⎛                                       ⎛   3                      \n",
       "         2 ⎜                       2⋅\\nu⋅t   u_{0}⋅⎝sin (x)⋅sin(y) - sin(x)⋅si\n",
       "\\nu⋅u_{0} ⋅⎜(cos(2⋅x) + cos(2⋅y))⋅ℯ        + ─────────────────────────────────\n",
       "           ⎝                                                   \\nu            \n",
       "\n",
       " 3   ⎞⎞          \n",
       "n (y)⎠⎟  -6⋅\\nu⋅t\n",
       "──────⎟⋅ℯ        \n",
       "      ⎠          "
      ]
     },
     "execution_count": 9,
     "metadata": {},
     "output_type": "execute_result"
    }
   ],
   "source": [
    "MC0=simplify(simplify(sym.diff(rhof, t)+sym.diff(rhof*uf, x)+sym.diff(rhof*vf, y)).subs(ky,kx))\n",
    "MC=MC0.subs(rho0,1).subs(td,1/(nu*2*kx*kx)).subs(kx,1)\n",
    "MC"
   ]
  },
  {
   "cell_type": "markdown",
   "metadata": {},
   "source": [
    "## Force Term"
   ]
  },
  {
   "cell_type": "code",
   "execution_count": 15,
   "metadata": {},
   "outputs": [
    {
     "data": {
      "image/png": "[encoded data removed]",
      "text/latex": [
       "$\\displaystyle \\frac{\\rho \\left(\\left(- \\xi_{x} - \\xi_{y}\\right) \\left(2 \\xi_{x} u_{x} + 2 \\xi_{y} u_{y} - u_{x}^{2} - u_{y}^{2} + \\left(\\xi_{x} u_{x} + \\xi_{y} u_{y}\\right)^{2} + 2\\right) + \\left(2 u_{x} + 2 u_{y}\\right) \\left(\\xi_{x} u_{x} + \\xi_{y} u_{y} + 1\\right)\\right) e^{- \\frac{\\xi_{x}^{2}}{2} - \\frac{\\xi_{y}^{2}}{2}}}{4 \\pi}$"
      ],
      "text/plain": [
       "                                                                              \n",
       "                                                                              \n",
       "                                                                              \n",
       "     ⎛                     ⎛                                         2        \n",
       "\\rho⋅⎝(-\\xi_{x} - \\xi_{y})⋅⎝2⋅\\xi_{x}⋅u_{x} + 2⋅\\xi_{y}⋅u_{y} - u_{x}  - u_{y}\n",
       "──────────────────────────────────────────────────────────────────────────────\n",
       "                                                                              \n",
       "\n",
       "                                                                              \n",
       "                                                                              \n",
       "                                                                              \n",
       "2                                  2    ⎞                                     \n",
       "  + (\\xi_{x}⋅u_{x} + \\xi_{y}⋅u_{y})  + 2⎠ + (2⋅u_{x} + 2⋅u_{y})⋅(\\xi_{x}⋅u_{x}\n",
       "──────────────────────────────────────────────────────────────────────────────\n",
       "                     4⋅π                                                      \n",
       "\n",
       "                                 2          2\n",
       "                          \\xi_{x}    \\xi_{y} \n",
       "                        - ──────── - ────────\n",
       "                     ⎞       2          2    \n",
       " + \\xi_{y}⋅u_{y} + 1)⎠⋅ℯ                     \n",
       "─────────────────────────────────────────────\n",
       "                                             "
      ]
     },
     "execution_count": 15,
     "metadata": {},
     "output_type": "execute_result"
    }
   ],
   "source": [
    "F0=simplify(sym.diff(feqg, xix) +sym.diff(feqg, xiy) ) \n",
    "F1=collect(F0, (2*xix*ux+2*xiy*uy-ux*ux-uy*uy+(xix*ux+xiy*uy)**2+2))\n",
    "F2=collect(F1, (xix*ux+xiy*uy+1))\n",
    "F2"
   ]
  },
  {
   "cell_type": "code",
   "execution_count": 12,
   "metadata": {},
   "outputs": [
    {
     "data": {
      "image/png": "[encoded data removed]",
      "text/latex": [
       "$\\displaystyle \\frac{\\rho \\left(\\xi_{x} u_{x} + \\xi_{y} u_{y} - \\frac{u_{x}^{2}}{2} - \\frac{u_{y}^{2}}{2} + \\frac{\\left(\\xi_{x} u_{x} + \\xi_{y} u_{y}\\right)^{2}}{2} + 1\\right) e^{- \\frac{\\xi_{x}^{2}}{2} - \\frac{\\xi_{y}^{2}}{2}}}{2 \\pi}$"
      ],
      "text/plain": [
       "                                                                              \n",
       "                                                                              \n",
       "     ⎛                                     2        2                         \n",
       "     ⎜                                u_{x}    u_{y}    (\\xi_{x}⋅u_{x} + \\xi_{\n",
       "\\rho⋅⎜\\xi_{x}⋅u_{x} + \\xi_{y}⋅u_{y} - ────── - ────── + ──────────────────────\n",
       "     ⎝                                  2        2                     2      \n",
       "──────────────────────────────────────────────────────────────────────────────\n",
       "                                                        2⋅π                   \n",
       "\n",
       "                          2          2\n",
       "                   \\xi_{x}    \\xi_{y} \n",
       "         2    ⎞  - ──────── - ────────\n",
       "y}⋅u_{y})     ⎟       2          2    \n",
       "────────── + 1⎟⋅ℯ                     \n",
       "              ⎠                       \n",
       "──────────────────────────────────────\n",
       "                                      "
      ]
     },
     "execution_count": 12,
     "metadata": {},
     "output_type": "execute_result"
    }
   ],
   "source": [
    "feqg"
   ]
  },
  {
   "cell_type": "code",
   "execution_count": 30,
   "metadata": {},
   "outputs": [
    {
     "data": {
      "image/png": "[encoded data removed]",
      "text/latex": [
       "$\\displaystyle \\frac{\\rho \\tau \\left(2 \\xi_{x} \\left(- \\partial_{x}u_{x} - \\partial_{x}u_{y} - \\partial_{y}u_{x} + \\partial_{y}u_{y}\\right) + 2 \\xi_{y} \\left(\\partial_{x}u_{x} - \\partial_{x}u_{y} - \\partial_{y}u_{x} - \\partial_{y}u_{y}\\right) + \\left(\\xi_{x} + \\xi_{y}\\right) \\left(2 \\xi_{x} \\xi_{y} \\left(\\partial_{x}u_{y} + \\partial_{y}u_{x}\\right) + \\left(\\partial_{x}u_{x} - \\partial_{y}u_{y}\\right) \\left(\\xi_{x}^{2} - 1\\right) - \\left(\\partial_{x}u_{x} - \\partial_{y}u_{y}\\right) \\left(\\xi_{y}^{2} - 1\\right)\\right)\\right) e^{- \\frac{\\xi_{x}^{2}}{2} - \\frac{\\xi_{y}^{2}}{2}}}{4 \\pi}$"
      ],
      "text/plain": [
       "                                                                              \n",
       "                                                                              \n",
       "                                                                              \n",
       "          ⎛                                                                   \n",
       "\\rho⋅\\tau⋅⎝2⋅\\xi_{x}⋅(-\\partial_{x}u_{x} - \\partial_{x}u_{y} - \\partial_{y}u_{\n",
       "──────────────────────────────────────────────────────────────────────────────\n",
       "                                                                              \n",
       "\n",
       "                                                                              \n",
       "                                                                              \n",
       "                                                                              \n",
       "                                                                              \n",
       "x} + \\partial_{y}u_{y}) + 2⋅\\xi_{y}⋅(\\partial_{x}u_{x} - \\partial_{x}u_{y} - \\\n",
       "──────────────────────────────────────────────────────────────────────────────\n",
       "                                                                              \n",
       "\n",
       "                                                                              \n",
       "                                                                              \n",
       "                                                                              \n",
       "                                                            ⎛                 \n",
       "partial_{y}u_{x} - \\partial_{y}u_{y}) + (\\xi_{x} + \\xi_{y})⋅⎝2⋅\\xi_{x}⋅\\xi_{y}\n",
       "──────────────────────────────────────────────────────────────────────────────\n",
       "                                                 4⋅π                          \n",
       "\n",
       "                                                                              \n",
       "                                                                              \n",
       "                                                                              \n",
       "                                                                              \n",
       "⋅(\\partial_{x}u_{y} + \\partial_{y}u_{x}) + (\\partial_{x}u_{x} - \\partial_{y}u_\n",
       "──────────────────────────────────────────────────────────────────────────────\n",
       "                                                                              \n",
       "\n",
       "                                                                              \n",
       "                                                                              \n",
       "                                                                              \n",
       "     ⎛       2    ⎞                                           ⎛       2    ⎞⎞⎞\n",
       "{y})⋅⎝\\xi_{x}  - 1⎠ - (\\partial_{x}u_{x} - \\partial_{y}u_{y})⋅⎝\\xi_{y}  - 1⎠⎠⎠\n",
       "──────────────────────────────────────────────────────────────────────────────\n",
       "                                                                              \n",
       "\n",
       "           2          2\n",
       "    \\xi_{x}    \\xi_{y} \n",
       "  - ──────── - ────────\n",
       "       2          2    \n",
       "⋅ℯ                     \n",
       "───────────────────────\n",
       "                       "
      ]
     },
     "execution_count": 30,
     "metadata": {},
     "output_type": "execute_result"
    }
   ],
   "source": [
    "F01=simplify(sym.diff(fneqg, xix) +sym.diff(fneqg, xiy) ) \n",
    "F11=collect(F01, (2*xix*xiy*(dvx+duy)+(dux-dvy)*(xix*xix-1)-(dux-dvy)*(xiy*xiy-1)))\n",
    "F21=collect(F11, [2*xix,2*xiy])\n",
    "F21"
   ]
  },
  {
   "cell_type": "code",
   "execution_count": 16,
   "metadata": {},
   "outputs": [
    {
     "data": {
      "image/png": "[encoded data removed]",
      "text/latex": [
       "$\\displaystyle - \\frac{\\rho \\tau \\left(\\frac{\\xi_{x} \\xi_{y} \\left(2 \\partial_{x}u_{y} + 2 \\partial_{y}u_{x}\\right)}{2} + \\frac{\\left(- \\partial_{x}u_{x} + \\partial_{y}u_{y}\\right) \\left(\\xi_{y}^{2} - 1\\right)}{2} + \\frac{\\left(\\partial_{x}u_{x} - \\partial_{y}u_{y}\\right) \\left(\\xi_{x}^{2} - 1\\right)}{2}\\right) e^{- \\frac{\\xi_{x}^{2}}{2} - \\frac{\\xi_{y}^{2}}{2}}}{2 \\pi}$"
      ],
      "text/plain": [
       "                                                                              \n",
       "                                                                              \n",
       "           ⎛                                                                  \n",
       "           ⎜\\xi_{x}⋅\\xi_{y}⋅(2⋅\\partial_{x}u_{y} + 2⋅\\partial_{y}u_{x})   (-\\p\n",
       "-\\rho⋅\\tau⋅⎜─────────────────────────────────────────────────────────── + ────\n",
       "           ⎝                             2                                    \n",
       "──────────────────────────────────────────────────────────────────────────────\n",
       "                                                                              \n",
       "\n",
       "                                                                              \n",
       "                                                                              \n",
       "                                     ⎛       2    ⎞                           \n",
       "artial_{x}u_{x} + \\partial_{y}u_{y})⋅⎝\\xi_{y}  - 1⎠   (\\partial_{x}u_{x} - \\pa\n",
       "─────────────────────────────────────────────────── + ────────────────────────\n",
       "                       2                                                      \n",
       "──────────────────────────────────────────────────────────────────────────────\n",
       "                          2⋅π                                                 \n",
       "\n",
       "                                          2          2 \n",
       "                                   \\xi_{x}    \\xi_{y}  \n",
       "                ⎛       2    ⎞⎞  - ──────── - ──────── \n",
       "rtial_{y}u_{y})⋅⎝\\xi_{x}  - 1⎠⎟       2          2     \n",
       "──────────────────────────────⎟⋅ℯ                      \n",
       "  2                           ⎠                        \n",
       "───────────────────────────────────────────────────────\n",
       "                                                       "
      ]
     },
     "execution_count": 16,
     "metadata": {},
     "output_type": "execute_result"
    }
   ],
   "source": [
    "fneqg"
   ]
  },
  {
   "cell_type": "code",
   "execution_count": null,
   "metadata": {},
   "outputs": [],
   "source": []
  },
  {
   "cell_type": "code",
   "execution_count": 1,
   "metadata": {},
   "outputs": [
    {
     "name": "stdout",
     "output_type": "stream",
     "text": [
      "Populating the interactive namespace from numpy and matplotlib\n"
     ]
    },
    {
     "data": {
      "text/latex": [
       "$\\displaystyle f{\\left(h \\right)} + \\left(- h + x\\right) \\left. \\frac{d}{d \\xi_{1}} f{\\left(\\xi_{1} \\right)} \\right|_{\\substack{ \\xi_{1}=h }} + \\frac{\\left(- h + x\\right)^{2} \\left. \\frac{d^{2}}{d \\xi_{1}^{2}} f{\\left(\\xi_{1} \\right)} \\right|_{\\substack{ \\xi_{1}=h }}}{2} + O\\left(\\left(- h + x\\right)^{3}; x\\rightarrow h\\right)$"
      ],
      "text/plain": [
       "                                              ⎛  2        ⎞│                  \n",
       "                                            2 ⎜ d         ⎟│                  \n",
       "                                    (-h + x) ⋅⎜────(f(ξ₁))⎟│                  \n",
       "                                              ⎜   2       ⎟│                  \n",
       "                ⎛ d        ⎞│                 ⎝dξ₁        ⎠│ξ₁=h    ⎛        3\n",
       "f(h) + (-h + x)⋅⎜───(f(ξ₁))⎟│     + ──────────────────────────── + O⎝(-h + x) \n",
       "                ⎝dξ₁       ⎠│ξ₁=h                2                            \n",
       "\n",
       "        \n",
       "        \n",
       "        \n",
       "        \n",
       "       ⎞\n",
       "; x → h⎠\n",
       "        "
      ]
     },
     "execution_count": 1,
     "metadata": {},
     "output_type": "execute_result"
    }
   ],
   "source": [
    "%pylab inline\n",
    "from __future__ import division\n",
    "from sympy import *\n",
    "#import numpy\n",
    "from sympy import S, collect, expand, factor, Wild\n",
    "from sympy import fraction, Rational, Symbol\n",
    "from sympy import series\n",
    "from sympy import init_printing, symbols, Function\n",
    "init_printing()\n",
    "\n",
    "x, h = symbols(\"x,h\")\n",
    "f = Function(\"f\")\n",
    "f(x).series(x, x0=h, n=3)"
   ]
  },
  {
   "cell_type": "code",
   "execution_count": 7,
   "metadata": {},
   "outputs": [
    {
     "data": {
      "image/png": "[encoded data removed]",
      "text/latex": [
       "$\\displaystyle f{\\left(x,t \\right)} + \\delta \\left(\\frac{\\partial}{\\partial t} f{\\left(x,t \\right)} + \\frac{\\partial}{\\partial x} f{\\left(x,t \\right)}\\right) + \\frac{\\delta^{2} \\left(\\frac{\\partial^{2}}{\\partial t^{2}} f{\\left(x,t \\right)} + \\frac{\\partial^{2}}{\\partial x^{2}} f{\\left(x,t \\right)} + 2 \\frac{\\partial^{2}}{\\partial x\\partial t} f{\\left(x,t \\right)}\\right)}{2} + \\frac{\\delta^{3} \\left(\\frac{\\partial^{3}}{\\partial t^{3}} f{\\left(x,t \\right)} + \\frac{\\partial^{3}}{\\partial x^{3}} f{\\left(x,t \\right)} + 3 \\frac{\\partial^{3}}{\\partial x^{2}\\partial t} f{\\left(x,t \\right)} + 3 \\frac{\\partial^{3}}{\\partial x\\partial t^{2}} f{\\left(x,t \\right)}\\right)}{6} + O\\left(\\delta^{4}\\right)$"
      ],
      "text/plain": [
       "                                                       ⎛  2              2    \n",
       "                                                     2 ⎜ ∂              ∂     \n",
       "                                               \\delta ⋅⎜───(f(x, t)) + ───(f(x\n",
       "                                                       ⎜  2              2    \n",
       "                 ⎛∂             ∂          ⎞           ⎝∂t             ∂x     \n",
       "f(x, t) + \\delta⋅⎜──(f(x, t)) + ──(f(x, t))⎟ + ───────────────────────────────\n",
       "                 ⎝∂t            ∂x         ⎠                              2   \n",
       "\n",
       "             2          ⎞           ⎛  3              3                 3     \n",
       "            ∂           ⎟         3 ⎜ ∂              ∂                 ∂      \n",
       ", t)) + 2⋅─────(f(x, t))⎟   \\delta ⋅⎜───(f(x, t)) + ───(f(x, t)) + 3⋅──────(f(\n",
       "          ∂x ∂t         ⎟           ⎜  3              3                2      \n",
       "                        ⎠           ⎝∂t             ∂x               ∂x  ∂t   \n",
       "───────────────────────── + ──────────────────────────────────────────────────\n",
       "                                                                  6           \n",
       "\n",
       "              3           ⎞             \n",
       "             ∂            ⎟             \n",
       "x, t)) + 3⋅──────(f(x, t))⎟             \n",
       "                2         ⎟             \n",
       "           ∂x ∂t          ⎠    ⎛      4⎞\n",
       "─────────────────────────── + O⎝\\delta ⎠\n",
       "                                        "
      ]
     },
     "execution_count": 7,
     "metadata": {},
     "output_type": "execute_result"
    }
   ],
   "source": [
    "x, t, delta = symbols(\"x t \\delta\")\n",
    "f = Function(\"f\")\n",
    "simplify(f(x+delta,t+delta).series(delta, x0=0, n=4))"
   ]
  },
  {
   "cell_type": "code",
   "execution_count": 12,
   "metadata": {},
   "outputs": [
    {
     "name": "stdout",
     "output_type": "stream",
     "text": [
      "Populating the interactive namespace from numpy and matplotlib\n"
     ]
    }
   ],
   "source": [
    "%pylab inline\n",
    "from __future__ import division\n",
    "from sympy import *\n",
    "#import numpy\n",
    "from sympy import S, collect, expand, factor, Wild\n",
    "from sympy import fraction, Rational, Symbol\n",
    "#-------------------------------------------------Símbolos----------------------------------------------\n",
    "omega, rho, w, cs, th = symbols('omega \\\\rho^{*} w c_{s} \\\\Theta' )\n",
    "ux, uy, gx, gy, tauxx, tauxy, tauyy, mx, my, mxx, mxy, myy, mxxy, mxyy, mxxx, myyy, mxxyy = symbols('u^{*}_{x} u^{*}_{y} g^{*}_{x} g^{*}_{y} \\\\tau^{*}_{xx} \\\\tau^{*}_{xy} \\\\tau^{*}_{yy} m^{*}_{x} m^{*}_{y} m^{*}_{xx} m^{*}_{xy} m^{*}_{yy} m^{*}_{xxy} m^{*}_{xyy} m^{*}_{xxx} m^{*}_{yyy} m^{*}_{xxyy}')\n",
    "wi, cx, cy = symbols('w_{i} c_{x} c_{y}')\n",
    "fi, f0, f1, f2, f3, f4, f5, f6, f7, f8, f9, f10, f11, f12, f13, f14, f15, f16 = symbols('\\overline{f}_{i} \\overline{f}_{0} \\overline{f}_{1} \\overline{f}_{2} \\overline{f}_{3} \\overline{f}_{4} \\overline{f}_{5} \\overline{f}_{6} \\overline{f}_{7} \\overline{f}_{8} \\overline{f}_{9} \\overline{f}_{10} \\overline{f}_{11} \\overline{f}_{12} \\overline{f}_{13} \\overline{f}_{14} \\overline{f}_{15} \\overline{f}_{16}')\n",
    "rhoI, rhomx, rhomy, rhomxx, rhomxy, rhomyy, rhomxxy, rhomxyy, rhomxxx, rhomyyy, rhomxxyy = symbols('\\\\rho_{I} \\\\rho_{I}m_{x} \\\\rho_{I}m_{y} \\\\rho_{I}m_{xx} \\\\rho_{I}m_{xy} \\\\rho_{I}m_{yy} \\\\rho_{I}m_{xxy} \\\\rho_{I}m_{xyy} \\\\rho_{I}m_{xxx} \\\\rho_{I}m_{yyy} \\\\rho_{I}m_{xxyy}')\n",
    "rhoux, rhouy = symbols('\\\\rho_{I}u_{x} \\\\rho_{I}u_{y}')\n",
    "#-------------------------------------------------Funções----------------------------------------------\n",
    "feq = Function('feq')(wi, cx, cy)\n",
    "fneq = Function('fneq')(wi, cx, cy)\n",
    "fh = Function('fh')(wi, cx, cy)\n",
    "f = Function('f')(fi)\n",
    "fhout = Function('fhout')(feq,fh)\n",
    "#-------------------------------------------------Variáveis----------------------------------------------\n",
    "fi=np.array([f0,f1,f2,f3,f4,f5,f6,f7,f8,f9,f10,f11,f12,f13,f14,f15,f16])\n",
    "w0=(575+193*sqrt(193))/8100;w1= (3355-91*sqrt(193))/18000;w2= (655+17*sqrt(193))/27000;w3=(685-49*sqrt(193))/54000;w4=(1445-101*sqrt(193))/162000\n",
    "cs=1/sqrt( (125+5*sqrt(193))/72 )\n",
    "#wi=np.array([Rational(575+193*math.sqrt(193),8100),Rational(3355-91*math.sqrt(193),18000),Rational(3355-91*math.sqrt(193),18000),Rational(3355-91*math.sqrt(193),18000),Rational(3355-91*math.sqrt(193),18000),Rational(655+17*math.sqrt(193),27000),Rational(655+17*math.sqrt(193),27000),Rational(655+17*math.sqrt(193),27000),Rational(655+17*math.sqrt(193),27000),Rational(685-49*math.sqrt(193),54000),Rational(685-49*math.sqrt(193),54000),Rational(685-49*math.sqrt(193),54000),Rational(685-49*math.sqrt(193),54000),Rational(1445-101*math.sqrt(193),162000),Rational(1445-101*math.sqrt(193),162000),Rational(1445-101*math.sqrt(193),162000),Rational(1445-101*math.sqrt(193),162000)])\n",
    "wi=np.array([w0,w1,w1,w1,w1,w2,w2,w2,w2,w3,w3,w3,w3,w4,w4,w4,w4])\n",
    "cx=np.array([0,1,0,-1,0 ,1,-1,-1, 1,2,-2,-2, 2,3,0,-3, 0])\n",
    "cy=np.array([0,0,1, 0,-1,1, 1,-1,-1,2, 2,-2,-2,0,3, 0,-3])\n",
    "#-------------------------------------------------Calc.Func------------------------------------------------\n",
    "f= fi\n",
    "#feq=rho*wi*(1 + (cx*ux+cy*uy)/cs**2 +((ux*cx+uy*cy)**2)/(2*cs**4) - (ux**2+uy**2)/(2*cs**2) +((ux*cx+uy*cy)**3)/(6*cs**6)- (ux**2+uy**2)*(ux*cx+uy*cy)/(2*cs**4) )\n",
    "feq=rho*wi*(1 + (cx*ux+cy*uy)/cs**2 +((ux*cx+uy*cy)**2)/(2*cs**4) - (ux**2+uy**2)/(2*cs**2) +((ux*cx+uy*cy)**3)/(6*cs**6)- (ux**2+uy**2)*(ux*cx+uy*cy)/(2*cs**4) - th + (cx*cx+cy*cy)*th/(2*cs**2) + (ux*cx+uy*cy)*(cx*cx+cy*cy)*th/(2*cs**4) -2*(ux*cx+uy*cy)*th/(cs**2))\n",
    "fneq=wi*( (tauxx*(cx*cx-cs**2)+ 2*tauxy*cx*cy+ tauyy*(cy*cy-cs**2) )/(2*cs**4) + (uy*tauxx+2*ux*tauxy)*(cx*cx-cs**2)*cy/(2*cs**6) + (ux*tauyy+2*uy*tauxy)*(cy*cy-cs**2)*cx/(2*cs**6) + ux*tauxx*(cx*cx-3*cs**2)*cx/(2*cs**6) + uy*tauyy*(cy*cy-3*cs**2)*cy/(2*cs**6)  )\n",
    "fh=rho*wi*(1 + (cx*ux+cy*uy)/cs**2 +mxx*(cx*cx-cs**2)/(2*cs**4) +mxy*(cx*cy)/cs**4 +myy*(cy*cy-cs**2)/(2*cs**4) +mxxy*(cx*cx-cs**2)*cy/(2*cs**6)  + mxyy*(cy*cy-cs**2)*cx/(2*cs**6)   + mxxx*(cx*cx-3*cs**2)*cx/(6*cs**6) + myyy*(cy*cy-3*cs**2)*cy/(6*cs**6) )\n",
    "fhout=omega*feq+(1-omega)*(feq+fneq)\n",
    "f2=feq+fneq\n",
    "Force=((gx*cx+gy*cy)-(gx*ux+gy*uy))*feq/((th+1)*cs*cs)"
   ]
  },
  {
   "cell_type": "markdown",
   "metadata": {},
   "source": [
    "# Regularized Boundary Conditions for 1st Order Moments "
   ]
  },
  {
   "cell_type": "markdown",
   "metadata": {},
   "source": [
    "## Known Velocities Boundary Conditions: D2Q9 Planes"
   ]
  },
  {
   "cell_type": "markdown",
   "metadata": {},
   "source": [
    "### Camada Norte "
   ]
  },
  {
   "cell_type": "code",
   "execution_count": 31,
   "metadata": {},
   "outputs": [
    {
     "data": {
      "text/latex": [
       "$\\displaystyle \\frac{\\rho^{*} \\left(- 1080 \\Theta g^{*}_{x} \\left(u^{*}_{x}\\right)^{2} - 36 \\sqrt{193} \\Theta g^{*}_{x} + 900 \\Theta g^{*}_{x} - 1080 \\Theta g^{*}_{y} u^{*}_{x} u^{*}_{y} - 625 g^{*}_{x} \\left(u^{*}_{x}\\right)^{4} - 25 \\sqrt{193} g^{*}_{x} \\left(u^{*}_{x}\\right)^{4} + 1080 g^{*}_{x} \\left(u^{*}_{x}\\right)^{2} - 625 g^{*}_{y} \\left(u^{*}_{x}\\right)^{3} u^{*}_{y} - 25 \\sqrt{193} g^{*}_{y} \\left(u^{*}_{x}\\right)^{3} u^{*}_{y}\\right)}{360 \\left(\\Theta + 1\\right)}$"
      ],
      "text/plain": [
       "\\rho^{*}*(-1080*\\Theta*g^{*}_{x}*u^{*}_{x}**2 - 36*sqrt(193)*\\Theta*g^{*}_{x} + 900*\\Theta*g^{*}_{x} - 1080*\\Theta*g^{*}_{y}*u^{*}_{x}*u^{*}_{y} - 625*g^{*}_{x}*u^{*}_{x}**4 - 25*sqrt(193)*g^{*}_{x}*u^{*}_{x}**4 + 1080*g^{*}_{x}*u^{*}_{x}**2 - 625*g^{*}_{y}*u^{*}_{x}**3*u^{*}_{y} - 25*sqrt(193)*g^{*}_{y}*u^{*}_{x}**3*u^{*}_{y})/(360*(\\Theta + 1))"
      ]
     },
     "execution_count": 31,
     "metadata": {},
     "output_type": "execute_result"
    }
   ],
   "source": [
    "simplify(expand(simplify(sum(Force*(cx*cx-3*cs*cs)*cx))))\n",
    "#simplify(sum(Force*(cx*cx*cx)))\n",
    "#simplify(sum(Force*(cx)))"
   ]
  },
  {
   "cell_type": "code",
   "execution_count": 30,
   "metadata": {},
   "outputs": [
    {
     "data": {
      "text/latex": [
       "$\\displaystyle \\frac{\\rho^{*} u^{*}_{x} \\left(- \\sqrt{193} \\Theta + 25 \\Theta - \\sqrt{193} + 25\\right)}{30}$"
      ],
      "text/plain": [
       "\\rho^{*}*u^{*}_{x}*(-sqrt(193)*\\Theta + 25*\\Theta - sqrt(193) + 25)/30"
      ]
     },
     "execution_count": 30,
     "metadata": {},
     "output_type": "execute_result"
    }
   ],
   "source": [
    "#simplify(sum((feq)*cx))\n",
    "#simplify(sum((feq)*(cx*cx-3*cs*cs)*cx))\n",
    "simplify(sum((feq)*(cx*cx-2*cx*ux+ux*ux)*cx))"
   ]
  },
  {
   "cell_type": "code",
   "execution_count": 48,
   "metadata": {},
   "outputs": [
    {
     "data": {
      "text/latex": [
       "$\\displaystyle \\rho^{*} \\left(- \\frac{11839}{16200} - \\frac{101 \\sqrt{193}}{16200}\\right) + \\rho_{I}$"
      ],
      "text/plain": [
       "\\rho^{*}*(-11839/16200 - 101*sqrt(193)/16200) + \\rho_{I}"
      ]
     },
     "execution_count": 48,
     "metadata": {},
     "output_type": "execute_result"
    }
   ],
   "source": [
    "fknowN=[f[0],f[1],f[2],f[3],0,f[5],f[6],0,0,f[9],f[10],0,0,f[13],f[14],f[15],0]\n",
    "funknowN=[0,0,0,0,f2[4],0,0,f2[7],f2[8],0,0,f2[11],f2[12],0,0,0,f2[16]]\n",
    "An0=simplify(sum(funknowN)+sum(fknowN)-rho)\n",
    "An1=collect(An0.subs(sum(fknowN),rhoI), [rho])\n",
    "An2=collect(An1,[omega]).subs(ux,0).subs(uy,0).subs(tauyy,0).subs(tauxx,0)\n",
    "An2\n",
    "#print(latex(An2))"
   ]
  },
  {
   "cell_type": "code",
   "execution_count": null,
   "metadata": {},
   "outputs": [],
   "source": []
  }
 ],
 "metadata": {
  "kernelspec": {
   "display_name": "Python 3",
   "language": "python",
   "name": "python3"
  },
  "language_info": {
   "codemirror_mode": {
    "name": "ipython",
    "version": 3
   },
   "file_extension": ".py",
   "mimetype": "text/x-python",
   "name": "python",
   "nbconvert_exporter": "python",
   "pygments_lexer": "ipython3",
   "version": "3.7.4"
  }
 },
 "nbformat": 4,
 "nbformat_minor": 2
}
